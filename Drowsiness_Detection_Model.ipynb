{
 "cells": [
  {
   "cell_type": "code",
   "execution_count": null,
   "id": "374bbe2f",
   "metadata": {
    "id": "374bbe2f",
    "outputId": "83d4f440-e25a-4104-961f-d2b6f7c246d7"
   },
   "outputs": [
    {
     "data": {
      "text/plain": [
       "'1.10.0'"
      ]
     },
     "execution_count": 2,
     "metadata": {},
     "output_type": "execute_result"
    }
   ],
   "source": [
    "%matplotlib inline\n",
    "%config InlineBackend.figure_formats = ['svg']"
   ]
  },
  {
   "cell_type": "code",
   "execution_count": null,
   "id": "0840yBpot1Rn",
   "metadata": {
    "id": "0840yBpot1Rn"
   },
   "outputs": [],
   "source": [
    "import numpy as np\n",
    "import pandas as pd\n",
    "import imageio\n",
    "import matplotlib.pyplot as plt\n",
    "import math\n",
    "import os.path\n",
    "import os\n",
    "import csv\n",
    "import glob\n",
    "import h5py as h5py\n",
    "import imageio\n",
    "import imutils\n",
    "import matplotlib.pyplot as plt\n",
    "import matplotlib.image as img\n",
    "import dlib\n",
    "import shutil\n",
    "import cv2\n",
    "import torch\n",
    "import torch.nn as nn\n",
    "import torch.nn.functional as F\n",
    "import torchvision\n",
    "import torchvision.transforms as transforms\n",
    "from torch.utils.data import Dataset, DataLoader\n",
    "from mlxtend.image import extract_face_landmarks\n",
    "from imutils import face_utils\n",
    "from threading import Thread\n",
    "from scipy.spatial import distance \n",
    "from sklearn.metrics import roc_curve, roc_auc_score, f1_score, accuracy_score, confusion_matrix\n",
    "from sklearn import metrics\n",
    "from sklearn.neighbors import KNeighborsClassifier\n",
    "from sklearn import preprocessing\n",
    "from IPython.display import clear_output\n",
    "from PIL import Image\n",
    "from torch.utils.tensorboard import SummaryWriter\n",
    "from captum.attr import GuidedGradCam\n",
    "from captum.attr import visualization as viz"
   ]
  },
  {
   "cell_type": "markdown",
   "id": "bafe1206",
   "metadata": {
    "id": "bafe1206"
   },
   "source": [
    "# Feature Extraction"
   ]
  },
  {
   "cell_type": "code",
   "execution_count": null,
   "id": "b0e50c59",
   "metadata": {
    "id": "b0e50c59"
   },
   "outputs": [],
   "source": [
    "def eye_aspect_ratio(eye):\n",
    "   # calculating ratio of length and width of eyes\n",
    "    A = distance.euclidean(eye[1], eye[5])\n",
    "    B = distance.euclidean(eye[2], eye[4])\n",
    "    C = distance.euclidean(eye[0], eye[3])\n",
    "    ear = (A + B) / (2.0 * C)\n",
    "    return ear"
   ]
  },
  {
   "cell_type": "code",
   "execution_count": null,
   "id": "d3c87402",
   "metadata": {
    "id": "d3c87402"
   },
   "outputs": [],
   "source": [
    "def mouth_aspect_ratio(mouth):\n",
    "    #calculating ratio of length and width of mouth\n",
    "    A = distance.euclidean(mouth[14], mouth[18])\n",
    "    C = distance.euclidean(mouth[12], mouth[16])\n",
    "    mar = (A ) / (C)\n",
    "    return mar"
   ]
  },
  {
   "cell_type": "code",
   "execution_count": null,
   "id": "62412115",
   "metadata": {
    "id": "62412115"
   },
   "outputs": [],
   "source": [
    "def circularity(eye):\n",
    "    \"\"\"Calculates PUC -> low perimeter leads to lower pupil\"\"\"\n",
    "    A = distance.euclidean(eye[1], eye[4])\n",
    "    radius  = A/2.0\n",
    "    Area = math.pi * (radius ** 2)\n",
    "    p = 0\n",
    "    p += distance.euclidean(eye[0], eye[1])\n",
    "    p += distance.euclidean(eye[1], eye[2])\n",
    "    p += distance.euclidean(eye[2], eye[3])\n",
    "    p += distance.euclidean(eye[3], eye[4])\n",
    "    p += distance.euclidean(eye[4], eye[5])\n",
    "    p += distance.euclidean(eye[5], eye[0])\n",
    "    return 4 * math.pi * Area / (p**2)"
   ]
  },
  {
   "cell_type": "code",
   "execution_count": null,
   "id": "5a6dbd47",
   "metadata": {
    "id": "5a6dbd47"
   },
   "outputs": [],
   "source": [
    "def mouth_over_eye(eye):\n",
    "    #calculating ratio of MAR to EAR\n",
    "    ear = eye_aspect_ratio(eye)\n",
    "    mar = mouth_aspect_ratio(eye)\n",
    "    mouth_eye = mar/ear\n",
    "    return mouth_eye"
   ]
  },
  {
   "cell_type": "code",
   "execution_count": null,
   "id": "eb4424ba",
   "metadata": {
    "id": "eb4424ba"
   },
   "outputs": [],
   "source": [
    "# Code for the extraction referred from https://medium.com/@iKhushPatel/convert-video-to-images-images-to-video-using-opencv-python-db27a128a481\n",
    "def frame_extraction(folder = \"Fold5_part2\", participants = [55, 60], MAX_FRAMES = 240):\n",
    "    def captureFrame(sec):\n",
    "        # setting the starting time at 3 minutes\n",
    "        start = 180000\n",
    "        #setting the timestamp to get the frame at that particular second\n",
    "        vidcap.set(cv2.CAP_PROP_POS_MSEC, start + sec*1000)\n",
    "        #gets the frame from the specified second\n",
    "        ret_frame, image = vidcap.read()\n",
    "        \n",
    "        if ret_frame:\n",
    "            #if there is no existing  folder\n",
    "            if not (os.path.exists(r\"D:\\\\Downloads\\\\img\\\\\" + str(parti_num) + \"\\\\\")):\n",
    "                #making new folder\n",
    "                os.mkdir(r\"D:\\\\Downloads\\\\img\\\\\" + str(parti_num))\n",
    "            #saving the frame\n",
    "            cv2.imwrite(r\"D:\\\\Downloads\\\\img\\\\\" + str(parti_num) + \"\\\\p\" + str(parti_num) + \"_s\" + str(state) +\n",
    "                        \"_\" + str(frame_count) + \"sec.jpg\", image)    \n",
    "        return ret_frame, image\n",
    "\n",
    "    \n",
    "    \n",
    "    parti_num, state = 0, 0\n",
    "    # Loop through all videos in a specific folder. Best results with .mov files.\n",
    "    for j in participants:\n",
    "        for i in np.arange(0, 11, 5):\n",
    "            #clearing the output at every frame otherwise it will create flickering\n",
    "            clear_output(wait=True)\n",
    "            print(f'Starting with participant {j} and state {i}')\n",
    "            values = []\n",
    "            labels = []\n",
    "            #reading the video\n",
    "            vidcap = cv2.VideoCapture(r'D:\\\\Downloads\\\\' + str(folder) + '\\\\' + str(j) +'\\\\' + str(i) + '.mov')\n",
    "            # printing the number of frames in the video\n",
    "            print(f\"Total Frames in selected Video {int(vidcap.get(cv2.CAP_PROP_FRAME_COUNT))}\")\n",
    "            sec = 0\n",
    "            frameRate = 1\n",
    "            frame_count = 0\n",
    "            acquire_frame, image  = captureFrame(sec)\n",
    "            parti_num = j\n",
    "            state = i\n",
    "            # Extract frames (per video), the more frames the longer the extraction takes\n",
    "            while acquire_frame and frame_count < MAX_FRAMES: \n",
    "                # function from mlxtend library to extract detect and extract face shape\n",
    "                landmarks = extract_face_landmarks(image)\n",
    "                if landmarks is not None and sum(sum(landmarks)) != 0:\n",
    "    \n",
    "                    frame_count += 1\n",
    "                    values.append(landmarks)\n",
    "                    labels.append([i])\n",
    "                    #adding framerate to get the next frame\n",
    "                    sec = sec + frameRate\n",
    "                    sec = round(sec, 2)\n",
    "                    #capture next frame\n",
    "                    acquire_frame, image = captureFrame(sec)\n",
    "                    print(frame_count)\n",
    "                else:  \n",
    "                    #if face not detected\n",
    "                    sec = sec + frameRate\n",
    "                    sec = round(sec, 2)\n",
    "                    acquire_frame, image = captureFrame(sec)\n",
    "                    print(\"not detected\")\n",
    "            if acquire_frame:\n",
    "                values = np.array(values)\n",
    "                labels = np.array(labels)\n",
    "                print(f\"Data {values.shape}\")\n",
    "                print(f\"Labels {labels.shape}\")\n",
    "                interested_features = []\n",
    "                # eye and mouth feature extraction referred from https://github.com/sandyying/APM-Drowsiness-Detection/blob/master/Feature%20Extraction.ipynb\n",
    "                for k in values:\n",
    "                    # extracting only the interested features i.e., eye and mouth\n",
    "                    key_landmark = k[36:68]\n",
    "                    # here we create our features for our base classifier\n",
    "                    ear = eye_aspect_ratio(key_landmark)\n",
    "                    mar = mouth_aspect_ratio(key_landmark)\n",
    "                    cir = circularity(key_landmark)\n",
    "                    mouth_eye = mouth_over_eye(key_landmark)\n",
    "                    interested_features.append([int(parti_num), ear, mar, cir, mouth_eye])\n",
    "                interested_features = np.array(interested_features)\n",
    "                print(f\"Features {interested_features.shape}\")\n",
    "                # saving captured features in csv\n",
    "                np.savetxt('D:\\\\Downloads\\\\data_drowsiness\\\\' + str(folder) +'_features_'+str(parti_num)+'_'+str(state)+'.csv', interested_features, delimiter = \",\")\n",
    "                np.savetxt('D:\\\\Downloads\\\\data_drowsiness\\\\' + str(folder) +'_labels_'+str(parti_num)+'_'+str(state)+'.csv', labels, delimiter = \",\")"
   ]
  },
  {
   "cell_type": "code",
   "execution_count": null,
   "id": "db4ff111",
   "metadata": {
    "id": "db4ff111",
    "outputId": "906284e0-a214-4c1f-ab37-7b841496e805"
   },
   "outputs": [
    {
     "name": "stdout",
     "output_type": "stream",
     "text": [
      "Starting with participant Fold1_part2_features_10_10.csv and state 10\n"
     ]
    },
    {
     "ename": "KeyboardInterrupt",
     "evalue": "",
     "output_type": "error",
     "traceback": [
      "\u001b[1;31m---------------------------------------------------------------------------\u001b[0m",
      "\u001b[1;31mKeyboardInterrupt\u001b[0m                         Traceback (most recent call last)",
      "\u001b[1;32m<timed exec>\u001b[0m in \u001b[0;36m<module>\u001b[1;34m\u001b[0m\n",
      "\u001b[1;32m<ipython-input-10-a1cecc2fa70b>\u001b[0m in \u001b[0;36mframe_extraction\u001b[1;34m(folder, participants, MAX_FRAMES)\u001b[0m\n\u001b[0;32m     31\u001b[0m             \u001b[0mlabels\u001b[0m \u001b[1;33m=\u001b[0m \u001b[1;33m[\u001b[0m\u001b[1;33m]\u001b[0m\u001b[1;33m\u001b[0m\u001b[1;33m\u001b[0m\u001b[0m\n\u001b[0;32m     32\u001b[0m             \u001b[1;31m#reading the video\u001b[0m\u001b[1;33m\u001b[0m\u001b[1;33m\u001b[0m\u001b[1;33m\u001b[0m\u001b[0m\n\u001b[1;32m---> 33\u001b[1;33m             \u001b[0mvidcap\u001b[0m \u001b[1;33m=\u001b[0m \u001b[0mcv2\u001b[0m\u001b[1;33m.\u001b[0m\u001b[0mVideoCapture\u001b[0m\u001b[1;33m(\u001b[0m\u001b[1;34mr'D:\\\\Downloads\\\\'\u001b[0m \u001b[1;33m+\u001b[0m \u001b[0mstr\u001b[0m\u001b[1;33m(\u001b[0m\u001b[0mfolder\u001b[0m\u001b[1;33m)\u001b[0m \u001b[1;33m+\u001b[0m \u001b[1;34m'\\\\'\u001b[0m \u001b[1;33m+\u001b[0m \u001b[0mstr\u001b[0m\u001b[1;33m(\u001b[0m\u001b[0mj\u001b[0m\u001b[1;33m)\u001b[0m \u001b[1;33m+\u001b[0m\u001b[1;34m'\\\\'\u001b[0m \u001b[1;33m+\u001b[0m \u001b[0mstr\u001b[0m\u001b[1;33m(\u001b[0m\u001b[0mi\u001b[0m\u001b[1;33m)\u001b[0m \u001b[1;33m+\u001b[0m \u001b[1;34m'.mov'\u001b[0m\u001b[1;33m)\u001b[0m\u001b[1;33m\u001b[0m\u001b[1;33m\u001b[0m\u001b[0m\n\u001b[0m\u001b[0;32m     34\u001b[0m             \u001b[1;31m# printing the number of frames in the video\u001b[0m\u001b[1;33m\u001b[0m\u001b[1;33m\u001b[0m\u001b[1;33m\u001b[0m\u001b[0m\n\u001b[0;32m     35\u001b[0m             \u001b[0mprint\u001b[0m\u001b[1;33m(\u001b[0m\u001b[1;34mf\"Total Frames in selected Video {int(vidcap.get(cv2.CAP_PROP_FRAME_COUNT))}\"\u001b[0m\u001b[1;33m)\u001b[0m\u001b[1;33m\u001b[0m\u001b[1;33m\u001b[0m\u001b[0m\n",
      "\u001b[1;31mKeyboardInterrupt\u001b[0m: "
     ]
    }
   ],
   "source": [
    "\n",
    "%%time\n",
    "#to load the videos\n",
    "x = os.listdir('D:\\\\Downloads\\\\')\n",
    "for i,j in zip(x, [os.listdir('D:\\\\Downloads\\\\'+i) for i in x]):\n",
    "    frame_extraction(folder=i, participants=j)\n",
    "\n"
   ]
  },
  {
   "cell_type": "code",
   "execution_count": null,
   "id": "43533eaf",
   "metadata": {
    "id": "43533eaf",
    "outputId": "6015d3a5-51cd-4ebe-aa59-26488f58656a"
   },
   "outputs": [
    {
     "data": {
      "text/html": [
       "<div>\n",
       "<style scoped>\n",
       "    .dataframe tbody tr th:only-of-type {\n",
       "        vertical-align: middle;\n",
       "    }\n",
       "\n",
       "    .dataframe tbody tr th {\n",
       "        vertical-align: top;\n",
       "    }\n",
       "\n",
       "    .dataframe thead th {\n",
       "        text-align: right;\n",
       "    }\n",
       "</style>\n",
       "<table border=\"1\" class=\"dataframe\">\n",
       "  <thead>\n",
       "    <tr style=\"text-align: right;\">\n",
       "      <th></th>\n",
       "      <th>Participant</th>\n",
       "      <th>EAR</th>\n",
       "      <th>MAR</th>\n",
       "      <th>Circularity</th>\n",
       "      <th>MOE</th>\n",
       "    </tr>\n",
       "  </thead>\n",
       "  <tbody>\n",
       "    <tr>\n",
       "      <th>0</th>\n",
       "      <td>1.0</td>\n",
       "      <td>0.306011</td>\n",
       "      <td>0.850631</td>\n",
       "      <td>0.439164</td>\n",
       "      <td>2.779737</td>\n",
       "    </tr>\n",
       "    <tr>\n",
       "      <th>1</th>\n",
       "      <td>1.0</td>\n",
       "      <td>0.300157</td>\n",
       "      <td>0.883182</td>\n",
       "      <td>0.430257</td>\n",
       "      <td>2.942402</td>\n",
       "    </tr>\n",
       "    <tr>\n",
       "      <th>2</th>\n",
       "      <td>1.0</td>\n",
       "      <td>0.318335</td>\n",
       "      <td>0.875474</td>\n",
       "      <td>0.466570</td>\n",
       "      <td>2.750171</td>\n",
       "    </tr>\n",
       "    <tr>\n",
       "      <th>3</th>\n",
       "      <td>1.0</td>\n",
       "      <td>0.302996</td>\n",
       "      <td>0.887505</td>\n",
       "      <td>0.454279</td>\n",
       "      <td>2.929104</td>\n",
       "    </tr>\n",
       "    <tr>\n",
       "      <th>4</th>\n",
       "      <td>1.0</td>\n",
       "      <td>0.340870</td>\n",
       "      <td>0.890336</td>\n",
       "      <td>0.496024</td>\n",
       "      <td>2.611952</td>\n",
       "    </tr>\n",
       "    <tr>\n",
       "      <th>...</th>\n",
       "      <td>...</td>\n",
       "      <td>...</td>\n",
       "      <td>...</td>\n",
       "      <td>...</td>\n",
       "      <td>...</td>\n",
       "    </tr>\n",
       "    <tr>\n",
       "      <th>235</th>\n",
       "      <td>1.0</td>\n",
       "      <td>0.309938</td>\n",
       "      <td>0.816165</td>\n",
       "      <td>0.432415</td>\n",
       "      <td>2.633318</td>\n",
       "    </tr>\n",
       "    <tr>\n",
       "      <th>236</th>\n",
       "      <td>1.0</td>\n",
       "      <td>0.298477</td>\n",
       "      <td>0.787879</td>\n",
       "      <td>0.436982</td>\n",
       "      <td>2.639667</td>\n",
       "    </tr>\n",
       "    <tr>\n",
       "      <th>237</th>\n",
       "      <td>1.0</td>\n",
       "      <td>0.260300</td>\n",
       "      <td>0.841359</td>\n",
       "      <td>0.421348</td>\n",
       "      <td>3.232268</td>\n",
       "    </tr>\n",
       "    <tr>\n",
       "      <th>238</th>\n",
       "      <td>1.0</td>\n",
       "      <td>0.299461</td>\n",
       "      <td>0.810135</td>\n",
       "      <td>0.419005</td>\n",
       "      <td>2.705307</td>\n",
       "    </tr>\n",
       "    <tr>\n",
       "      <th>239</th>\n",
       "      <td>1.0</td>\n",
       "      <td>0.299794</td>\n",
       "      <td>0.836992</td>\n",
       "      <td>0.448961</td>\n",
       "      <td>2.791892</td>\n",
       "    </tr>\n",
       "  </tbody>\n",
       "</table>\n",
       "<p>240 rows × 5 columns</p>\n",
       "</div>"
      ],
      "text/plain": [
       "     Participant       EAR       MAR  Circularity       MOE\n",
       "0            1.0  0.306011  0.850631     0.439164  2.779737\n",
       "1            1.0  0.300157  0.883182     0.430257  2.942402\n",
       "2            1.0  0.318335  0.875474     0.466570  2.750171\n",
       "3            1.0  0.302996  0.887505     0.454279  2.929104\n",
       "4            1.0  0.340870  0.890336     0.496024  2.611952\n",
       "..           ...       ...       ...          ...       ...\n",
       "235          1.0  0.309938  0.816165     0.432415  2.633318\n",
       "236          1.0  0.298477  0.787879     0.436982  2.639667\n",
       "237          1.0  0.260300  0.841359     0.421348  3.232268\n",
       "238          1.0  0.299461  0.810135     0.419005  2.705307\n",
       "239          1.0  0.299794  0.836992     0.448961  2.791892\n",
       "\n",
       "[240 rows x 5 columns]"
      ]
     },
     "execution_count": 12,
     "metadata": {},
     "output_type": "execute_result"
    }
   ],
   "source": [
    "pd.read_csv(r\"D:\\\\Downloads\\\\data_drowsiness\\Fold1_part1_features_1_5.csv\", header=None, names=[\"Participant\", \"EAR\", \"MAR\", \"Circularity\", \"MOE\"])"
   ]
  },
  {
   "cell_type": "code",
   "execution_count": null,
   "id": "aedb4594",
   "metadata": {
    "id": "aedb4594",
    "outputId": "c6fbf190-fa42-4214-ecc5-454a5a11ac0c"
   },
   "outputs": [
    {
     "name": "stdout",
     "output_type": "stream",
     "text": [
      "(18480, 6)\n"
     ]
    }
   ],
   "source": [
    "# reading all the features and labels and combining them together\n",
    "df_features = [pd.read_csv(f, header=None, names=[\"Participant\", \"EAR\", \"MAR\", \"Circularity\", \"MOE\"]) for f in glob.glob(\"D:\\\\Downloads\\\\data_drowsiness\\Fold*_features_*.csv\")]\n",
    "df_labels = [pd.read_csv(f, header=None, names=[\"Y\"]) for f in glob.glob(\"D:\\\\Downloads\\\\data_drowsiness\\Fold*_labels_*.csv\")]\n",
    "\n",
    "df = pd.concat([pd.concat(df_features,ignore_index=True), pd.concat(df_labels,ignore_index=True)], axis=1)\n",
    "print(df.shape) \n",
    "# Save merged file\n"
   ]
  },
  {
   "cell_type": "code",
   "execution_count": null,
   "id": "66498919",
   "metadata": {
    "id": "66498919",
    "outputId": "c7a7aa1c-d2ab-4ebb-ab53-85a74d5d7693"
   },
   "outputs": [
    {
     "data": {
      "text/html": [
       "<div>\n",
       "<style scoped>\n",
       "    .dataframe tbody tr th:only-of-type {\n",
       "        vertical-align: middle;\n",
       "    }\n",
       "\n",
       "    .dataframe tbody tr th {\n",
       "        vertical-align: top;\n",
       "    }\n",
       "\n",
       "    .dataframe thead th {\n",
       "        text-align: right;\n",
       "    }\n",
       "</style>\n",
       "<table border=\"1\" class=\"dataframe\">\n",
       "  <thead>\n",
       "    <tr style=\"text-align: right;\">\n",
       "      <th></th>\n",
       "      <th>Participant</th>\n",
       "      <th>EAR</th>\n",
       "      <th>MAR</th>\n",
       "      <th>Circularity</th>\n",
       "      <th>MOE</th>\n",
       "      <th>Y</th>\n",
       "    </tr>\n",
       "  </thead>\n",
       "  <tbody>\n",
       "    <tr>\n",
       "      <th>0</th>\n",
       "      <td>1.0</td>\n",
       "      <td>0.312688</td>\n",
       "      <td>0.792397</td>\n",
       "      <td>0.432896</td>\n",
       "      <td>2.534145</td>\n",
       "      <td>0.0</td>\n",
       "    </tr>\n",
       "    <tr>\n",
       "      <th>1</th>\n",
       "      <td>1.0</td>\n",
       "      <td>0.321940</td>\n",
       "      <td>0.766199</td>\n",
       "      <td>0.486923</td>\n",
       "      <td>2.379947</td>\n",
       "      <td>0.0</td>\n",
       "    </tr>\n",
       "    <tr>\n",
       "      <th>2</th>\n",
       "      <td>1.0</td>\n",
       "      <td>0.331216</td>\n",
       "      <td>0.688449</td>\n",
       "      <td>0.456029</td>\n",
       "      <td>2.078550</td>\n",
       "      <td>0.0</td>\n",
       "    </tr>\n",
       "    <tr>\n",
       "      <th>3</th>\n",
       "      <td>1.0</td>\n",
       "      <td>0.309246</td>\n",
       "      <td>0.776136</td>\n",
       "      <td>0.452655</td>\n",
       "      <td>2.509767</td>\n",
       "      <td>0.0</td>\n",
       "    </tr>\n",
       "    <tr>\n",
       "      <th>4</th>\n",
       "      <td>1.0</td>\n",
       "      <td>0.204691</td>\n",
       "      <td>0.734189</td>\n",
       "      <td>0.361123</td>\n",
       "      <td>3.586821</td>\n",
       "      <td>0.0</td>\n",
       "    </tr>\n",
       "  </tbody>\n",
       "</table>\n",
       "</div>"
      ],
      "text/plain": [
       "   Participant       EAR       MAR  Circularity       MOE    Y\n",
       "0          1.0  0.312688  0.792397     0.432896  2.534145  0.0\n",
       "1          1.0  0.321940  0.766199     0.486923  2.379947  0.0\n",
       "2          1.0  0.331216  0.688449     0.456029  2.078550  0.0\n",
       "3          1.0  0.309246  0.776136     0.452655  2.509767  0.0\n",
       "4          1.0  0.204691  0.734189     0.361123  3.586821  0.0"
      ]
     },
     "execution_count": 15,
     "metadata": {},
     "output_type": "execute_result"
    }
   ],
   "source": [
    "df.to_csv(r'D:\\\\Downloads\\\\data_drowsiness\\merged\\combined_feature_label.csv',index=False)\n",
    "df.head()"
   ]
  },
  {
   "cell_type": "code",
   "execution_count": null,
   "id": "6b2029fe",
   "metadata": {
    "id": "6b2029fe"
   },
   "outputs": [],
   "source": []
  },
  {
   "cell_type": "markdown",
   "id": "62572a5a",
   "metadata": {
    "id": "62572a5a"
   },
   "source": [
    "# Standardization"
   ]
  },
  {
   "cell_type": "code",
   "execution_count": null,
   "id": "jZZMeLohte-Y",
   "metadata": {
    "id": "jZZMeLohte-Y"
   },
   "outputs": [],
   "source": [
    "df_combined = pd.read_csv(r'D:\\\\Downloads\\\\data_drowsiness\\\\merged\\\\combined_feature_label.csv')"
   ]
  },
  {
   "cell_type": "code",
   "execution_count": null,
   "id": "b584c343",
   "metadata": {
    "id": "b584c343",
    "outputId": "5653c101-6771-41c7-8090-ba4f3a2827bb"
   },
   "outputs": [
    {
     "data": {
      "text/html": [
       "<div>\n",
       "<style scoped>\n",
       "    .dataframe tbody tr th:only-of-type {\n",
       "        vertical-align: middle;\n",
       "    }\n",
       "\n",
       "    .dataframe tbody tr th {\n",
       "        vertical-align: top;\n",
       "    }\n",
       "\n",
       "    .dataframe thead th {\n",
       "        text-align: right;\n",
       "    }\n",
       "</style>\n",
       "<table border=\"1\" class=\"dataframe\">\n",
       "  <thead>\n",
       "    <tr style=\"text-align: right;\">\n",
       "      <th></th>\n",
       "      <th>Y</th>\n",
       "      <th>MOE</th>\n",
       "      <th>Participant</th>\n",
       "      <th>EAR</th>\n",
       "      <th>MAR</th>\n",
       "      <th>Circularity</th>\n",
       "    </tr>\n",
       "  </thead>\n",
       "  <tbody>\n",
       "    <tr>\n",
       "      <th>0</th>\n",
       "      <td>0.0</td>\n",
       "      <td>2.534145</td>\n",
       "      <td>1.0</td>\n",
       "      <td>0.312688</td>\n",
       "      <td>0.792397</td>\n",
       "      <td>0.432896</td>\n",
       "    </tr>\n",
       "    <tr>\n",
       "      <th>1</th>\n",
       "      <td>0.0</td>\n",
       "      <td>2.379947</td>\n",
       "      <td>1.0</td>\n",
       "      <td>0.321940</td>\n",
       "      <td>0.766199</td>\n",
       "      <td>0.486923</td>\n",
       "    </tr>\n",
       "    <tr>\n",
       "      <th>2</th>\n",
       "      <td>0.0</td>\n",
       "      <td>2.078550</td>\n",
       "      <td>1.0</td>\n",
       "      <td>0.331216</td>\n",
       "      <td>0.688449</td>\n",
       "      <td>0.456029</td>\n",
       "    </tr>\n",
       "    <tr>\n",
       "      <th>3</th>\n",
       "      <td>0.0</td>\n",
       "      <td>2.509767</td>\n",
       "      <td>1.0</td>\n",
       "      <td>0.309246</td>\n",
       "      <td>0.776136</td>\n",
       "      <td>0.452655</td>\n",
       "    </tr>\n",
       "    <tr>\n",
       "      <th>4</th>\n",
       "      <td>0.0</td>\n",
       "      <td>3.586821</td>\n",
       "      <td>1.0</td>\n",
       "      <td>0.204691</td>\n",
       "      <td>0.734189</td>\n",
       "      <td>0.361123</td>\n",
       "    </tr>\n",
       "    <tr>\n",
       "      <th>...</th>\n",
       "      <td>...</td>\n",
       "      <td>...</td>\n",
       "      <td>...</td>\n",
       "      <td>...</td>\n",
       "      <td>...</td>\n",
       "      <td>...</td>\n",
       "    </tr>\n",
       "    <tr>\n",
       "      <th>18475</th>\n",
       "      <td>5.0</td>\n",
       "      <td>3.011821</td>\n",
       "      <td>60.0</td>\n",
       "      <td>0.348480</td>\n",
       "      <td>1.049561</td>\n",
       "      <td>0.490477</td>\n",
       "    </tr>\n",
       "    <tr>\n",
       "      <th>18476</th>\n",
       "      <td>5.0</td>\n",
       "      <td>4.016572</td>\n",
       "      <td>60.0</td>\n",
       "      <td>0.262352</td>\n",
       "      <td>1.053755</td>\n",
       "      <td>0.395392</td>\n",
       "    </tr>\n",
       "    <tr>\n",
       "      <th>18477</th>\n",
       "      <td>5.0</td>\n",
       "      <td>3.212684</td>\n",
       "      <td>60.0</td>\n",
       "      <td>0.319431</td>\n",
       "      <td>1.026230</td>\n",
       "      <td>0.490811</td>\n",
       "    </tr>\n",
       "    <tr>\n",
       "      <th>18478</th>\n",
       "      <td>5.0</td>\n",
       "      <td>4.230846</td>\n",
       "      <td>60.0</td>\n",
       "      <td>0.256146</td>\n",
       "      <td>1.083715</td>\n",
       "      <td>0.378786</td>\n",
       "    </tr>\n",
       "    <tr>\n",
       "      <th>18479</th>\n",
       "      <td>5.0</td>\n",
       "      <td>3.057502</td>\n",
       "      <td>60.0</td>\n",
       "      <td>0.326811</td>\n",
       "      <td>0.999225</td>\n",
       "      <td>0.450339</td>\n",
       "    </tr>\n",
       "  </tbody>\n",
       "</table>\n",
       "<p>18480 rows × 6 columns</p>\n",
       "</div>"
      ],
      "text/plain": [
       "         Y       MOE  Participant       EAR       MAR  Circularity\n",
       "0      0.0  2.534145          1.0  0.312688  0.792397     0.432896\n",
       "1      0.0  2.379947          1.0  0.321940  0.766199     0.486923\n",
       "2      0.0  2.078550          1.0  0.331216  0.688449     0.456029\n",
       "3      0.0  2.509767          1.0  0.309246  0.776136     0.452655\n",
       "4      0.0  3.586821          1.0  0.204691  0.734189     0.361123\n",
       "...    ...       ...          ...       ...       ...          ...\n",
       "18475  5.0  3.011821         60.0  0.348480  1.049561     0.490477\n",
       "18476  5.0  4.016572         60.0  0.262352  1.053755     0.395392\n",
       "18477  5.0  3.212684         60.0  0.319431  1.026230     0.490811\n",
       "18478  5.0  4.230846         60.0  0.256146  1.083715     0.378786\n",
       "18479  5.0  3.057502         60.0  0.326811  0.999225     0.450339\n",
       "\n",
       "[18480 rows x 6 columns]"
      ]
     },
     "execution_count": 19,
     "metadata": {},
     "output_type": "execute_result"
    }
   ],
   "source": [
    "\n",
    "\n",
    "# we have to rearrange the columns\n",
    "column = df_combined.columns.tolist()\n",
    "column = column[-1:] + column[4:5] + column[:4]\n",
    "df_combined = df_combined[column]\n",
    "df_combined"
   ]
  },
  {
   "cell_type": "code",
   "execution_count": null,
   "id": "bf75eb9a",
   "metadata": {
    "id": "bf75eb9a",
    "outputId": "29ca100d-61b9-422a-b407-22af6b45d215"
   },
   "outputs": [
    {
     "data": {
      "text/plain": [
       "Y              0\n",
       "MOE            0\n",
       "Participant    0\n",
       "EAR            0\n",
       "MAR            0\n",
       "Circularity    0\n",
       "dtype: int64"
      ]
     },
     "execution_count": 20,
     "metadata": {},
     "output_type": "execute_result"
    }
   ],
   "source": [
    "df_combined.isna().sum()"
   ]
  },
  {
   "cell_type": "code",
   "execution_count": null,
   "id": "76b4a81b",
   "metadata": {
    "id": "76b4a81b",
    "outputId": "43621098-fa48-439a-96a3-2e8616de7f22"
   },
   "outputs": [
    {
     "data": {
      "text/plain": [
       "13"
      ]
     },
     "execution_count": 21,
     "metadata": {},
     "output_type": "execute_result"
    }
   ],
   "source": [
    "df_combined.duplicated().sum()"
   ]
  },
  {
   "cell_type": "code",
   "execution_count": null,
   "id": "cef3c5bf",
   "metadata": {
    "id": "cef3c5bf",
    "outputId": "3c5c8202-259b-4a84-f8c9-ea68ae22a855"
   },
   "outputs": [
    {
     "data": {
      "text/plain": [
       "(17280, 6)"
      ]
     },
     "execution_count": 22,
     "metadata": {},
     "output_type": "execute_result"
    }
   ],
   "source": [
    "#Removing the duplicate values\n",
    "\n",
    "t = df_combined.drop_duplicates(\"Participant\")\n",
    "df_combined = df_combined[~df_combined.Participant.isin(t[t.Y > 0].Participant)]\n",
    "df_combined.shape\n"
   ]
  },
  {
   "cell_type": "code",
   "execution_count": null,
   "id": "dBY7RgGrtCyY",
   "metadata": {
    "id": "dBY7RgGrtCyY"
   },
   "outputs": [],
   "source": [
    "\n",
    "class Standardization:\n",
    "    \n",
    "    def __init__(self, df_combined):\n",
    "        self.df_combined = df_combined\n",
    "\n",
    "    #Functions for getting mean and std of each feature\n",
    "    def calculate_Standardization(self):\n",
    "        def mean_EAR(respondent):\n",
    "            return df_means.loc[respondent][\"EAR\"]\n",
    "\n",
    "        def mean_MAR(respondent):\n",
    "            return df_means.loc[respondent][\"MAR\"]\n",
    "\n",
    "        def mean_Circularity(respondent):\n",
    "            return df_means.loc[respondent][\"Circularity\"]\n",
    "\n",
    "        def mean_MOE(respondent):\n",
    "            return df_means.loc[respondent][\"MOE\"]\n",
    "\n",
    "        def std_EAR(respondent):\n",
    "            return df_std.loc[respondent][\"EAR\"]\n",
    "\n",
    "        def std_MAR(respondent):\n",
    "            return df_std.loc[respondent][\"MAR\"]\n",
    "\n",
    "        def std_Circularity(respondent):\n",
    "            return df_std.loc[respondent][\"Circularity\"]\n",
    "\n",
    "        def std_MOE(respondent):\n",
    "            return df_std.loc[respondent][\"MOE\"]\n",
    "        \n",
    "       #Separating the rows which are \"Alert\" only\n",
    "        df_state = self.df_combined[self.df_combined[\"Y\"] == 0] \n",
    "        \n",
    "        #Creating separate dataframes for each participants \"Alert\" state\n",
    "        df_state_1 = df_state.iloc[0::240, :]\n",
    "        df_state_2 = df_state.iloc[1::240, :]\n",
    "        df_state_3 = df_state.iloc[2::240, :]\n",
    "        \n",
    "        #combining all \"Alert\" state into one dataframe\n",
    "        state_first3 = [df_state_1,df_state_2,df_state_3]\n",
    "        df_state_first3 = pd.concat(state_first3)\n",
    "        df_state_first3 = df_state_first3.sort_index()\n",
    "        \n",
    "        # calculating per participant the mean and std for each feature\n",
    "        pd.options.mode.chained_assignment = None\n",
    "        df_means = df_state_first3.groupby(\"Participant\")[[\"EAR\", \"MAR\", \"Circularity\", \"MOE\"]].mean()\n",
    "        df_std = df_state_first3.groupby(\"Participant\")[[\"EAR\", \"MAR\", \"Circularity\", \"MOE\"]].std()\n",
    "        \n",
    "        #Adding participant wise mean and std for each feature to each row in the original dataframe\n",
    "        self.df_combined[\"EAR_mean\"] = self.df_combined[\"Participant\"].apply(mean_EAR)\n",
    "        self.df_combined[\"MAR_mean\"] = self.df_combined[\"Participant\"].apply(mean_MAR)\n",
    "        self.df_combined[\"Circularity_mean\"] = self.df_combined[\"Participant\"].apply(mean_Circularity)\n",
    "        self.df_combined[\"MOE_mean\"] = self.df_combined[\"Participant\"].apply(mean_MOE)\n",
    "\n",
    "        self.df_combined[\"EAR_std\"] = self.df_combined[\"Participant\"].apply(std_EAR)\n",
    "        self.df_combined[\"MAR_std\"] = self.df_combined[\"Participant\"].apply(std_MAR)\n",
    "        self.df_combined[\"Circularity_std\"] = self.df_combined[\"Participant\"].apply(std_Circularity)\n",
    "        self.df_combined[\"MOE_std\"] = self.df_combined[\"Participant\"].apply(std_MOE)\n",
    "        self.df_combined.head()\n",
    "        print(self.df_combined.shape)\n",
    "        \n",
    "        #Normalizing the values\n",
    "        self.df_combined[\"EAR_N\"] = (self.df_combined[\"EAR\"] - self.df_combined[\"EAR_mean\"]) / self.df_combined[\"EAR_std\"]\n",
    "        self.df_combined[\"MAR_N\"] = (self.df_combined[\"MAR\"] - self.df_combined[\"MAR_mean\"]) / self.df_combined[\"MAR_std\"]\n",
    "        self.df_combined[\"Circularity_N\"] = (self.df_combined[\"Circularity\"] - self.df_combined[\"Circularity_mean\"]) / self.df_combined[\"Circularity_std\"]\n",
    "        self.df_combined[\"MOE_N\"] = (self.df_combined[\"MOE\"] - self.df_combined[\"MOE_mean\"]) / self.df_combined[\"MOE_std\"]\n",
    "        return self.df_combined"
   ]
  },
  {
   "cell_type": "markdown",
   "id": "6mBikAvStncv",
   "metadata": {
    "id": "6mBikAvStncv"
   },
   "source": [
    "### Performing standardization"
   ]
  },
  {
   "cell_type": "code",
   "execution_count": null,
   "id": "46c9a275",
   "metadata": {
    "id": "46c9a275",
    "outputId": "5f6aa043-f857-46ed-86b2-dd5fc8ce7471"
   },
   "outputs": [
    {
     "name": "stdout",
     "output_type": "stream",
     "text": [
      "(17280, 14)\n"
     ]
    },
    {
     "data": {
      "text/html": [
       "<div>\n",
       "<style scoped>\n",
       "    .dataframe tbody tr th:only-of-type {\n",
       "        vertical-align: middle;\n",
       "    }\n",
       "\n",
       "    .dataframe tbody tr th {\n",
       "        vertical-align: top;\n",
       "    }\n",
       "\n",
       "    .dataframe thead th {\n",
       "        text-align: right;\n",
       "    }\n",
       "</style>\n",
       "<table border=\"1\" class=\"dataframe\">\n",
       "  <thead>\n",
       "    <tr style=\"text-align: right;\">\n",
       "      <th></th>\n",
       "      <th>Y</th>\n",
       "      <th>MOE</th>\n",
       "      <th>Participant</th>\n",
       "      <th>EAR</th>\n",
       "      <th>MAR</th>\n",
       "      <th>Circularity</th>\n",
       "      <th>EAR_mean</th>\n",
       "      <th>MAR_mean</th>\n",
       "      <th>Circularity_mean</th>\n",
       "      <th>MOE_mean</th>\n",
       "      <th>EAR_std</th>\n",
       "      <th>MAR_std</th>\n",
       "      <th>Circularity_std</th>\n",
       "      <th>MOE_std</th>\n",
       "      <th>EAR_N</th>\n",
       "      <th>MAR_N</th>\n",
       "      <th>Circularity_N</th>\n",
       "      <th>MOE_N</th>\n",
       "    </tr>\n",
       "  </thead>\n",
       "  <tbody>\n",
       "    <tr>\n",
       "      <th>0</th>\n",
       "      <td>0.0</td>\n",
       "      <td>2.534145</td>\n",
       "      <td>1.0</td>\n",
       "      <td>0.312688</td>\n",
       "      <td>0.792397</td>\n",
       "      <td>0.432896</td>\n",
       "      <td>0.321948</td>\n",
       "      <td>0.749015</td>\n",
       "      <td>0.458616</td>\n",
       "      <td>2.330881</td>\n",
       "      <td>0.009264</td>\n",
       "      <td>0.054062</td>\n",
       "      <td>0.027106</td>\n",
       "      <td>0.231727</td>\n",
       "      <td>-0.999551</td>\n",
       "      <td>0.802437</td>\n",
       "      <td>-0.948848</td>\n",
       "      <td>0.877172</td>\n",
       "    </tr>\n",
       "    <tr>\n",
       "      <th>1</th>\n",
       "      <td>0.0</td>\n",
       "      <td>2.379947</td>\n",
       "      <td>1.0</td>\n",
       "      <td>0.321940</td>\n",
       "      <td>0.766199</td>\n",
       "      <td>0.486923</td>\n",
       "      <td>0.321948</td>\n",
       "      <td>0.749015</td>\n",
       "      <td>0.458616</td>\n",
       "      <td>2.330881</td>\n",
       "      <td>0.009264</td>\n",
       "      <td>0.054062</td>\n",
       "      <td>0.027106</td>\n",
       "      <td>0.231727</td>\n",
       "      <td>-0.000897</td>\n",
       "      <td>0.317858</td>\n",
       "      <td>1.044306</td>\n",
       "      <td>0.211742</td>\n",
       "    </tr>\n",
       "    <tr>\n",
       "      <th>2</th>\n",
       "      <td>0.0</td>\n",
       "      <td>2.078550</td>\n",
       "      <td>1.0</td>\n",
       "      <td>0.331216</td>\n",
       "      <td>0.688449</td>\n",
       "      <td>0.456029</td>\n",
       "      <td>0.321948</td>\n",
       "      <td>0.749015</td>\n",
       "      <td>0.458616</td>\n",
       "      <td>2.330881</td>\n",
       "      <td>0.009264</td>\n",
       "      <td>0.054062</td>\n",
       "      <td>0.027106</td>\n",
       "      <td>0.231727</td>\n",
       "      <td>1.000448</td>\n",
       "      <td>-1.120295</td>\n",
       "      <td>-0.095458</td>\n",
       "      <td>-1.088914</td>\n",
       "    </tr>\n",
       "    <tr>\n",
       "      <th>3</th>\n",
       "      <td>0.0</td>\n",
       "      <td>2.509767</td>\n",
       "      <td>1.0</td>\n",
       "      <td>0.309246</td>\n",
       "      <td>0.776136</td>\n",
       "      <td>0.452655</td>\n",
       "      <td>0.321948</td>\n",
       "      <td>0.749015</td>\n",
       "      <td>0.458616</td>\n",
       "      <td>2.330881</td>\n",
       "      <td>0.009264</td>\n",
       "      <td>0.054062</td>\n",
       "      <td>0.027106</td>\n",
       "      <td>0.231727</td>\n",
       "      <td>-1.371052</td>\n",
       "      <td>0.501666</td>\n",
       "      <td>-0.219920</td>\n",
       "      <td>0.771970</td>\n",
       "    </tr>\n",
       "    <tr>\n",
       "      <th>4</th>\n",
       "      <td>0.0</td>\n",
       "      <td>3.586821</td>\n",
       "      <td>1.0</td>\n",
       "      <td>0.204691</td>\n",
       "      <td>0.734189</td>\n",
       "      <td>0.361123</td>\n",
       "      <td>0.321948</td>\n",
       "      <td>0.749015</td>\n",
       "      <td>0.458616</td>\n",
       "      <td>2.330881</td>\n",
       "      <td>0.009264</td>\n",
       "      <td>0.054062</td>\n",
       "      <td>0.027106</td>\n",
       "      <td>0.231727</td>\n",
       "      <td>-12.657205</td>\n",
       "      <td>-0.274242</td>\n",
       "      <td>-3.596686</td>\n",
       "      <td>5.419921</td>\n",
       "    </tr>\n",
       "  </tbody>\n",
       "</table>\n",
       "</div>"
      ],
      "text/plain": [
       "     Y       MOE  Participant       EAR       MAR  Circularity  EAR_mean  \\\n",
       "0  0.0  2.534145          1.0  0.312688  0.792397     0.432896  0.321948   \n",
       "1  0.0  2.379947          1.0  0.321940  0.766199     0.486923  0.321948   \n",
       "2  0.0  2.078550          1.0  0.331216  0.688449     0.456029  0.321948   \n",
       "3  0.0  2.509767          1.0  0.309246  0.776136     0.452655  0.321948   \n",
       "4  0.0  3.586821          1.0  0.204691  0.734189     0.361123  0.321948   \n",
       "\n",
       "   MAR_mean  Circularity_mean  MOE_mean   EAR_std   MAR_std  Circularity_std  \\\n",
       "0  0.749015          0.458616  2.330881  0.009264  0.054062         0.027106   \n",
       "1  0.749015          0.458616  2.330881  0.009264  0.054062         0.027106   \n",
       "2  0.749015          0.458616  2.330881  0.009264  0.054062         0.027106   \n",
       "3  0.749015          0.458616  2.330881  0.009264  0.054062         0.027106   \n",
       "4  0.749015          0.458616  2.330881  0.009264  0.054062         0.027106   \n",
       "\n",
       "    MOE_std      EAR_N     MAR_N  Circularity_N     MOE_N  \n",
       "0  0.231727  -0.999551  0.802437      -0.948848  0.877172  \n",
       "1  0.231727  -0.000897  0.317858       1.044306  0.211742  \n",
       "2  0.231727   1.000448 -1.120295      -0.095458 -1.088914  \n",
       "3  0.231727  -1.371052  0.501666      -0.219920  0.771970  \n",
       "4  0.231727 -12.657205 -0.274242      -3.596686  5.419921  "
      ]
     },
     "execution_count": 25,
     "metadata": {},
     "output_type": "execute_result"
    }
   ],
   "source": [
    "\n",
    "pd.options.mode.chained_assignment = None\n",
    "\n",
    "# Standardization\n",
    "df_combined = Standardization(df_combined).calculate_Standardization()\n",
    "df_combined.head()"
   ]
  },
  {
   "cell_type": "code",
   "execution_count": null,
   "id": "01a29d1d",
   "metadata": {
    "id": "01a29d1d"
   },
   "outputs": [],
   "source": [
    "# Saving the file to a CSV with all the information\n",
    "df_combined.to_csv(r'D:\\\\Downloads\\\\data_drowsiness\\prepared\\whole_info.csv',index=False)\n",
    "\n",
    "# Saving the file to a CSV with all the information\n",
    "df_main = df_combined.drop([\"EAR_mean\",\"MAR_mean\", \"Circularity_mean\", \"MOE_mean\", \"EAR_std\", \"MAR_std\", \"Circularity_std\", \"MOE_std\"], axis=1)\n",
    "df_main.to_csv(r'D:\\\\Downloads\\\\data_drowsiness\\prepared\\normalized_data.csv',index=False)"
   ]
  },
  {
   "cell_type": "markdown",
   "id": "c9528d0d",
   "metadata": {
    "id": "3b6e3e20"
   },
   "source": [
    "## KNN"
   ]
  },
  {
   "cell_type": "code",
   "execution_count": 1,
   "id": "3cfed6f4",
   "metadata": {},
   "outputs": [],
   "source": [
    "# import all the relevant libraries\n",
    "import pandas as pd\n",
    "import numpy as np\n",
    "import matplotlib.pyplot as plt\n",
    "from sklearn.model_selection import train_test_split"
   ]
  },
  {
   "cell_type": "code",
   "execution_count": 2,
   "id": "a1adaae9",
   "metadata": {},
   "outputs": [
    {
     "data": {
      "text/html": [
       "<div>\n",
       "<style scoped>\n",
       "    .dataframe tbody tr th:only-of-type {\n",
       "        vertical-align: middle;\n",
       "    }\n",
       "\n",
       "    .dataframe tbody tr th {\n",
       "        vertical-align: top;\n",
       "    }\n",
       "\n",
       "    .dataframe thead th {\n",
       "        text-align: right;\n",
       "    }\n",
       "</style>\n",
       "<table border=\"1\" class=\"dataframe\">\n",
       "  <thead>\n",
       "    <tr style=\"text-align: right;\">\n",
       "      <th></th>\n",
       "      <th>Y</th>\n",
       "      <th>MOE</th>\n",
       "      <th>Participant</th>\n",
       "      <th>EAR</th>\n",
       "      <th>MAR</th>\n",
       "      <th>Circularity</th>\n",
       "      <th>EAR_N</th>\n",
       "      <th>MAR_N</th>\n",
       "      <th>Circularity_N</th>\n",
       "      <th>MOE_N</th>\n",
       "    </tr>\n",
       "  </thead>\n",
       "  <tbody>\n",
       "    <tr>\n",
       "      <th>0</th>\n",
       "      <td>0.0</td>\n",
       "      <td>2.534145</td>\n",
       "      <td>1.0</td>\n",
       "      <td>0.312688</td>\n",
       "      <td>0.792397</td>\n",
       "      <td>0.432896</td>\n",
       "      <td>-0.999551</td>\n",
       "      <td>0.802437</td>\n",
       "      <td>-0.948848</td>\n",
       "      <td>0.877172</td>\n",
       "    </tr>\n",
       "    <tr>\n",
       "      <th>1</th>\n",
       "      <td>0.0</td>\n",
       "      <td>2.379947</td>\n",
       "      <td>1.0</td>\n",
       "      <td>0.321940</td>\n",
       "      <td>0.766199</td>\n",
       "      <td>0.486923</td>\n",
       "      <td>-0.000897</td>\n",
       "      <td>0.317858</td>\n",
       "      <td>1.044306</td>\n",
       "      <td>0.211742</td>\n",
       "    </tr>\n",
       "    <tr>\n",
       "      <th>2</th>\n",
       "      <td>0.0</td>\n",
       "      <td>2.078550</td>\n",
       "      <td>1.0</td>\n",
       "      <td>0.331216</td>\n",
       "      <td>0.688449</td>\n",
       "      <td>0.456029</td>\n",
       "      <td>1.000448</td>\n",
       "      <td>-1.120295</td>\n",
       "      <td>-0.095458</td>\n",
       "      <td>-1.088914</td>\n",
       "    </tr>\n",
       "    <tr>\n",
       "      <th>3</th>\n",
       "      <td>0.0</td>\n",
       "      <td>2.509767</td>\n",
       "      <td>1.0</td>\n",
       "      <td>0.309246</td>\n",
       "      <td>0.776136</td>\n",
       "      <td>0.452655</td>\n",
       "      <td>-1.371052</td>\n",
       "      <td>0.501666</td>\n",
       "      <td>-0.219920</td>\n",
       "      <td>0.771970</td>\n",
       "    </tr>\n",
       "    <tr>\n",
       "      <th>4</th>\n",
       "      <td>0.0</td>\n",
       "      <td>3.586821</td>\n",
       "      <td>1.0</td>\n",
       "      <td>0.204691</td>\n",
       "      <td>0.734189</td>\n",
       "      <td>0.361123</td>\n",
       "      <td>-12.657205</td>\n",
       "      <td>-0.274242</td>\n",
       "      <td>-3.596686</td>\n",
       "      <td>5.419921</td>\n",
       "    </tr>\n",
       "  </tbody>\n",
       "</table>\n",
       "</div>"
      ],
      "text/plain": [
       "     Y       MOE  Participant       EAR       MAR  Circularity      EAR_N  \\\n",
       "0  0.0  2.534145          1.0  0.312688  0.792397     0.432896  -0.999551   \n",
       "1  0.0  2.379947          1.0  0.321940  0.766199     0.486923  -0.000897   \n",
       "2  0.0  2.078550          1.0  0.331216  0.688449     0.456029   1.000448   \n",
       "3  0.0  2.509767          1.0  0.309246  0.776136     0.452655  -1.371052   \n",
       "4  0.0  3.586821          1.0  0.204691  0.734189     0.361123 -12.657205   \n",
       "\n",
       "      MAR_N  Circularity_N     MOE_N  \n",
       "0  0.802437      -0.948848  0.877172  \n",
       "1  0.317858       1.044306  0.211742  \n",
       "2 -1.120295      -0.095458 -1.088914  \n",
       "3  0.501666      -0.219920  0.771970  \n",
       "4 -0.274242      -3.596686  5.419921  "
      ]
     },
     "execution_count": 2,
     "metadata": {},
     "output_type": "execute_result"
    }
   ],
   "source": [
    "# read the dataset \n",
    "df = pd.read_csv('totalwithmaininfo.csv',sep=',')\n",
    "df.head()"
   ]
  },
  {
   "cell_type": "code",
   "execution_count": 3,
   "id": "cc270327",
   "metadata": {},
   "outputs": [
    {
     "data": {
      "text/html": [
       "<div>\n",
       "<style scoped>\n",
       "    .dataframe tbody tr th:only-of-type {\n",
       "        vertical-align: middle;\n",
       "    }\n",
       "\n",
       "    .dataframe tbody tr th {\n",
       "        vertical-align: top;\n",
       "    }\n",
       "\n",
       "    .dataframe thead th {\n",
       "        text-align: right;\n",
       "    }\n",
       "</style>\n",
       "<table border=\"1\" class=\"dataframe\">\n",
       "  <thead>\n",
       "    <tr style=\"text-align: right;\">\n",
       "      <th></th>\n",
       "      <th>Y</th>\n",
       "      <th>MOE</th>\n",
       "      <th>Participant</th>\n",
       "      <th>EAR</th>\n",
       "      <th>MAR</th>\n",
       "      <th>Circularity</th>\n",
       "      <th>EAR_N</th>\n",
       "      <th>MAR_N</th>\n",
       "      <th>Circularity_N</th>\n",
       "      <th>MOE_N</th>\n",
       "    </tr>\n",
       "  </thead>\n",
       "  <tbody>\n",
       "    <tr>\n",
       "      <th>0</th>\n",
       "      <td>0.0</td>\n",
       "      <td>2.534145</td>\n",
       "      <td>1.0</td>\n",
       "      <td>0.312688</td>\n",
       "      <td>0.792397</td>\n",
       "      <td>0.432896</td>\n",
       "      <td>-0.999551</td>\n",
       "      <td>0.802437</td>\n",
       "      <td>-0.948848</td>\n",
       "      <td>0.877172</td>\n",
       "    </tr>\n",
       "    <tr>\n",
       "      <th>1</th>\n",
       "      <td>0.0</td>\n",
       "      <td>2.379947</td>\n",
       "      <td>1.0</td>\n",
       "      <td>0.321940</td>\n",
       "      <td>0.766199</td>\n",
       "      <td>0.486923</td>\n",
       "      <td>-0.000897</td>\n",
       "      <td>0.317858</td>\n",
       "      <td>1.044306</td>\n",
       "      <td>0.211742</td>\n",
       "    </tr>\n",
       "    <tr>\n",
       "      <th>2</th>\n",
       "      <td>0.0</td>\n",
       "      <td>2.078550</td>\n",
       "      <td>1.0</td>\n",
       "      <td>0.331216</td>\n",
       "      <td>0.688449</td>\n",
       "      <td>0.456029</td>\n",
       "      <td>1.000448</td>\n",
       "      <td>-1.120295</td>\n",
       "      <td>-0.095458</td>\n",
       "      <td>-1.088914</td>\n",
       "    </tr>\n",
       "    <tr>\n",
       "      <th>3</th>\n",
       "      <td>0.0</td>\n",
       "      <td>2.509767</td>\n",
       "      <td>1.0</td>\n",
       "      <td>0.309246</td>\n",
       "      <td>0.776136</td>\n",
       "      <td>0.452655</td>\n",
       "      <td>-1.371052</td>\n",
       "      <td>0.501666</td>\n",
       "      <td>-0.219920</td>\n",
       "      <td>0.771970</td>\n",
       "    </tr>\n",
       "    <tr>\n",
       "      <th>4</th>\n",
       "      <td>0.0</td>\n",
       "      <td>3.586821</td>\n",
       "      <td>1.0</td>\n",
       "      <td>0.204691</td>\n",
       "      <td>0.734189</td>\n",
       "      <td>0.361123</td>\n",
       "      <td>-12.657205</td>\n",
       "      <td>-0.274242</td>\n",
       "      <td>-3.596686</td>\n",
       "      <td>5.419921</td>\n",
       "    </tr>\n",
       "    <tr>\n",
       "      <th>...</th>\n",
       "      <td>...</td>\n",
       "      <td>...</td>\n",
       "      <td>...</td>\n",
       "      <td>...</td>\n",
       "      <td>...</td>\n",
       "      <td>...</td>\n",
       "      <td>...</td>\n",
       "      <td>...</td>\n",
       "      <td>...</td>\n",
       "      <td>...</td>\n",
       "    </tr>\n",
       "    <tr>\n",
       "      <th>17275</th>\n",
       "      <td>5.0</td>\n",
       "      <td>3.011821</td>\n",
       "      <td>60.0</td>\n",
       "      <td>0.348480</td>\n",
       "      <td>1.049561</td>\n",
       "      <td>0.490477</td>\n",
       "      <td>0.219129</td>\n",
       "      <td>1.045407</td>\n",
       "      <td>0.011833</td>\n",
       "      <td>0.117043</td>\n",
       "    </tr>\n",
       "    <tr>\n",
       "      <th>17276</th>\n",
       "      <td>5.0</td>\n",
       "      <td>4.016572</td>\n",
       "      <td>60.0</td>\n",
       "      <td>0.262352</td>\n",
       "      <td>1.053755</td>\n",
       "      <td>0.395392</td>\n",
       "      <td>-3.791320</td>\n",
       "      <td>1.211484</td>\n",
       "      <td>-2.815814</td>\n",
       "      <td>4.557594</td>\n",
       "    </tr>\n",
       "    <tr>\n",
       "      <th>17277</th>\n",
       "      <td>5.0</td>\n",
       "      <td>3.212684</td>\n",
       "      <td>60.0</td>\n",
       "      <td>0.319431</td>\n",
       "      <td>1.026230</td>\n",
       "      <td>0.490811</td>\n",
       "      <td>-1.133518</td>\n",
       "      <td>0.121610</td>\n",
       "      <td>0.021755</td>\n",
       "      <td>1.004766</td>\n",
       "    </tr>\n",
       "    <tr>\n",
       "      <th>17278</th>\n",
       "      <td>5.0</td>\n",
       "      <td>4.230846</td>\n",
       "      <td>60.0</td>\n",
       "      <td>0.256146</td>\n",
       "      <td>1.083715</td>\n",
       "      <td>0.378786</td>\n",
       "      <td>-4.080274</td>\n",
       "      <td>2.397807</td>\n",
       "      <td>-3.309649</td>\n",
       "      <td>5.504590</td>\n",
       "    </tr>\n",
       "    <tr>\n",
       "      <th>17279</th>\n",
       "      <td>5.0</td>\n",
       "      <td>3.057502</td>\n",
       "      <td>60.0</td>\n",
       "      <td>0.326811</td>\n",
       "      <td>0.999225</td>\n",
       "      <td>0.450339</td>\n",
       "      <td>-0.789883</td>\n",
       "      <td>-0.947718</td>\n",
       "      <td>-1.181813</td>\n",
       "      <td>0.318934</td>\n",
       "    </tr>\n",
       "  </tbody>\n",
       "</table>\n",
       "<p>17280 rows × 10 columns</p>\n",
       "</div>"
      ],
      "text/plain": [
       "         Y       MOE  Participant       EAR       MAR  Circularity      EAR_N  \\\n",
       "0      0.0  2.534145          1.0  0.312688  0.792397     0.432896  -0.999551   \n",
       "1      0.0  2.379947          1.0  0.321940  0.766199     0.486923  -0.000897   \n",
       "2      0.0  2.078550          1.0  0.331216  0.688449     0.456029   1.000448   \n",
       "3      0.0  2.509767          1.0  0.309246  0.776136     0.452655  -1.371052   \n",
       "4      0.0  3.586821          1.0  0.204691  0.734189     0.361123 -12.657205   \n",
       "...    ...       ...          ...       ...       ...          ...        ...   \n",
       "17275  5.0  3.011821         60.0  0.348480  1.049561     0.490477   0.219129   \n",
       "17276  5.0  4.016572         60.0  0.262352  1.053755     0.395392  -3.791320   \n",
       "17277  5.0  3.212684         60.0  0.319431  1.026230     0.490811  -1.133518   \n",
       "17278  5.0  4.230846         60.0  0.256146  1.083715     0.378786  -4.080274   \n",
       "17279  5.0  3.057502         60.0  0.326811  0.999225     0.450339  -0.789883   \n",
       "\n",
       "          MAR_N  Circularity_N     MOE_N  \n",
       "0      0.802437      -0.948848  0.877172  \n",
       "1      0.317858       1.044306  0.211742  \n",
       "2     -1.120295      -0.095458 -1.088914  \n",
       "3      0.501666      -0.219920  0.771970  \n",
       "4     -0.274242      -3.596686  5.419921  \n",
       "...         ...            ...       ...  \n",
       "17275  1.045407       0.011833  0.117043  \n",
       "17276  1.211484      -2.815814  4.557594  \n",
       "17277  0.121610       0.021755  1.004766  \n",
       "17278  2.397807      -3.309649  5.504590  \n",
       "17279 -0.947718      -1.181813  0.318934  \n",
       "\n",
       "[17280 rows x 10 columns]"
      ]
     },
     "execution_count": 3,
     "metadata": {},
     "output_type": "execute_result"
    }
   ],
   "source": [
    "df"
   ]
  },
  {
   "cell_type": "code",
   "execution_count": 4,
   "id": "7b5a29de",
   "metadata": {},
   "outputs": [
    {
     "data": {
      "text/plain": [
       "array([ 1.,  2.,  3.,  5., 10., 16., 18., 19., 21., 22., 27., 28., 34.,\n",
       "       37., 43., 44., 48., 50., 51., 52., 53., 56., 57., 59., 60.])"
      ]
     },
     "execution_count": 4,
     "metadata": {},
     "output_type": "execute_result"
    }
   ],
   "source": [
    "# let's check what all unique value do we have in the \"Participant\" column\n",
    "df['Participant'].unique()"
   ]
  },
  {
   "cell_type": "code",
   "execution_count": 5,
   "id": "4c37a7be",
   "metadata": {},
   "outputs": [
    {
     "data": {
      "text/plain": [
       "array([ 0., 10.,  5.])"
      ]
     },
     "execution_count": 5,
     "metadata": {},
     "output_type": "execute_result"
    }
   ],
   "source": [
    "# let's check what all unique value do we have in the \"Y\" column\n",
    "df['Y'].unique()"
   ]
  },
  {
   "cell_type": "code",
   "execution_count": 6,
   "id": "79b28163",
   "metadata": {},
   "outputs": [],
   "source": [
    "# let's drop the Participant column as we do not need this\n",
    "df.drop([\"Participant\"], axis=1, inplace = True)"
   ]
  },
  {
   "cell_type": "code",
   "execution_count": 7,
   "id": "686e43b4",
   "metadata": {},
   "outputs": [],
   "source": [
    "# We will drop all the rows where Y == 5 because we are not considering the states with \"low vigilant state\"\n",
    "df.drop(df[df.Y == 5].index, inplace=True)"
   ]
  },
  {
   "cell_type": "code",
   "execution_count": 8,
   "id": "0cf0a390",
   "metadata": {},
   "outputs": [
    {
     "data": {
      "text/html": [
       "<div>\n",
       "<style scoped>\n",
       "    .dataframe tbody tr th:only-of-type {\n",
       "        vertical-align: middle;\n",
       "    }\n",
       "\n",
       "    .dataframe tbody tr th {\n",
       "        vertical-align: top;\n",
       "    }\n",
       "\n",
       "    .dataframe thead th {\n",
       "        text-align: right;\n",
       "    }\n",
       "</style>\n",
       "<table border=\"1\" class=\"dataframe\">\n",
       "  <thead>\n",
       "    <tr style=\"text-align: right;\">\n",
       "      <th></th>\n",
       "      <th>Y</th>\n",
       "      <th>MOE</th>\n",
       "      <th>EAR</th>\n",
       "      <th>MAR</th>\n",
       "      <th>Circularity</th>\n",
       "      <th>EAR_N</th>\n",
       "      <th>MAR_N</th>\n",
       "      <th>Circularity_N</th>\n",
       "      <th>MOE_N</th>\n",
       "    </tr>\n",
       "  </thead>\n",
       "  <tbody>\n",
       "    <tr>\n",
       "      <th>0</th>\n",
       "      <td>0.0</td>\n",
       "      <td>2.534145</td>\n",
       "      <td>0.312688</td>\n",
       "      <td>0.792397</td>\n",
       "      <td>0.432896</td>\n",
       "      <td>-0.999551</td>\n",
       "      <td>0.802437</td>\n",
       "      <td>-0.948848</td>\n",
       "      <td>0.877172</td>\n",
       "    </tr>\n",
       "    <tr>\n",
       "      <th>1</th>\n",
       "      <td>0.0</td>\n",
       "      <td>2.379947</td>\n",
       "      <td>0.321940</td>\n",
       "      <td>0.766199</td>\n",
       "      <td>0.486923</td>\n",
       "      <td>-0.000897</td>\n",
       "      <td>0.317858</td>\n",
       "      <td>1.044306</td>\n",
       "      <td>0.211742</td>\n",
       "    </tr>\n",
       "    <tr>\n",
       "      <th>2</th>\n",
       "      <td>0.0</td>\n",
       "      <td>2.078550</td>\n",
       "      <td>0.331216</td>\n",
       "      <td>0.688449</td>\n",
       "      <td>0.456029</td>\n",
       "      <td>1.000448</td>\n",
       "      <td>-1.120295</td>\n",
       "      <td>-0.095458</td>\n",
       "      <td>-1.088914</td>\n",
       "    </tr>\n",
       "    <tr>\n",
       "      <th>3</th>\n",
       "      <td>0.0</td>\n",
       "      <td>2.509767</td>\n",
       "      <td>0.309246</td>\n",
       "      <td>0.776136</td>\n",
       "      <td>0.452655</td>\n",
       "      <td>-1.371052</td>\n",
       "      <td>0.501666</td>\n",
       "      <td>-0.219920</td>\n",
       "      <td>0.771970</td>\n",
       "    </tr>\n",
       "    <tr>\n",
       "      <th>4</th>\n",
       "      <td>0.0</td>\n",
       "      <td>3.586821</td>\n",
       "      <td>0.204691</td>\n",
       "      <td>0.734189</td>\n",
       "      <td>0.361123</td>\n",
       "      <td>-12.657205</td>\n",
       "      <td>-0.274242</td>\n",
       "      <td>-3.596686</td>\n",
       "      <td>5.419921</td>\n",
       "    </tr>\n",
       "    <tr>\n",
       "      <th>...</th>\n",
       "      <td>...</td>\n",
       "      <td>...</td>\n",
       "      <td>...</td>\n",
       "      <td>...</td>\n",
       "      <td>...</td>\n",
       "      <td>...</td>\n",
       "      <td>...</td>\n",
       "      <td>...</td>\n",
       "      <td>...</td>\n",
       "    </tr>\n",
       "    <tr>\n",
       "      <th>17035</th>\n",
       "      <td>10.0</td>\n",
       "      <td>4.791645</td>\n",
       "      <td>0.213104</td>\n",
       "      <td>1.021117</td>\n",
       "      <td>0.367879</td>\n",
       "      <td>-6.084482</td>\n",
       "      <td>-0.080850</td>\n",
       "      <td>-3.634001</td>\n",
       "      <td>7.983071</td>\n",
       "    </tr>\n",
       "    <tr>\n",
       "      <th>17036</th>\n",
       "      <td>10.0</td>\n",
       "      <td>4.072009</td>\n",
       "      <td>0.244625</td>\n",
       "      <td>0.996117</td>\n",
       "      <td>0.445070</td>\n",
       "      <td>-4.616718</td>\n",
       "      <td>-1.070763</td>\n",
       "      <td>-1.338495</td>\n",
       "      <td>4.802602</td>\n",
       "    </tr>\n",
       "    <tr>\n",
       "      <th>17037</th>\n",
       "      <td>10.0</td>\n",
       "      <td>3.644583</td>\n",
       "      <td>0.286575</td>\n",
       "      <td>1.044448</td>\n",
       "      <td>0.425488</td>\n",
       "      <td>-2.663385</td>\n",
       "      <td>0.842954</td>\n",
       "      <td>-1.920805</td>\n",
       "      <td>2.913568</td>\n",
       "    </tr>\n",
       "    <tr>\n",
       "      <th>17038</th>\n",
       "      <td>10.0</td>\n",
       "      <td>3.840868</td>\n",
       "      <td>0.265593</td>\n",
       "      <td>1.020106</td>\n",
       "      <td>0.414632</td>\n",
       "      <td>-3.640416</td>\n",
       "      <td>-0.120886</td>\n",
       "      <td>-2.243641</td>\n",
       "      <td>3.781062</td>\n",
       "    </tr>\n",
       "    <tr>\n",
       "      <th>17039</th>\n",
       "      <td>10.0</td>\n",
       "      <td>3.771236</td>\n",
       "      <td>0.270172</td>\n",
       "      <td>1.018881</td>\n",
       "      <td>0.426082</td>\n",
       "      <td>-3.427201</td>\n",
       "      <td>-0.169399</td>\n",
       "      <td>-1.903147</td>\n",
       "      <td>3.473319</td>\n",
       "    </tr>\n",
       "  </tbody>\n",
       "</table>\n",
       "<p>11760 rows × 9 columns</p>\n",
       "</div>"
      ],
      "text/plain": [
       "          Y       MOE       EAR       MAR  Circularity      EAR_N     MAR_N  \\\n",
       "0       0.0  2.534145  0.312688  0.792397     0.432896  -0.999551  0.802437   \n",
       "1       0.0  2.379947  0.321940  0.766199     0.486923  -0.000897  0.317858   \n",
       "2       0.0  2.078550  0.331216  0.688449     0.456029   1.000448 -1.120295   \n",
       "3       0.0  2.509767  0.309246  0.776136     0.452655  -1.371052  0.501666   \n",
       "4       0.0  3.586821  0.204691  0.734189     0.361123 -12.657205 -0.274242   \n",
       "...     ...       ...       ...       ...          ...        ...       ...   \n",
       "17035  10.0  4.791645  0.213104  1.021117     0.367879  -6.084482 -0.080850   \n",
       "17036  10.0  4.072009  0.244625  0.996117     0.445070  -4.616718 -1.070763   \n",
       "17037  10.0  3.644583  0.286575  1.044448     0.425488  -2.663385  0.842954   \n",
       "17038  10.0  3.840868  0.265593  1.020106     0.414632  -3.640416 -0.120886   \n",
       "17039  10.0  3.771236  0.270172  1.018881     0.426082  -3.427201 -0.169399   \n",
       "\n",
       "       Circularity_N     MOE_N  \n",
       "0          -0.948848  0.877172  \n",
       "1           1.044306  0.211742  \n",
       "2          -0.095458 -1.088914  \n",
       "3          -0.219920  0.771970  \n",
       "4          -3.596686  5.419921  \n",
       "...              ...       ...  \n",
       "17035      -3.634001  7.983071  \n",
       "17036      -1.338495  4.802602  \n",
       "17037      -1.920805  2.913568  \n",
       "17038      -2.243641  3.781062  \n",
       "17039      -1.903147  3.473319  \n",
       "\n",
       "[11760 rows x 9 columns]"
      ]
     },
     "execution_count": 8,
     "metadata": {},
     "output_type": "execute_result"
    }
   ],
   "source": [
    "df"
   ]
  },
  {
   "cell_type": "code",
   "execution_count": 9,
   "id": "334f5194",
   "metadata": {},
   "outputs": [],
   "source": [
    "# Set 0.0 of y to int(0) which is set it to awake class\n",
    "# Set 10.0 of y to int(1) which is set it to drowsy class\n",
    "df.loc[df.Y == 0.0, \"Y\"] = int(0)\n",
    "df.loc[df.Y == 10.0, \"Y\"] = int(1)"
   ]
  },
  {
   "cell_type": "code",
   "execution_count": 10,
   "id": "bd4f9e8c",
   "metadata": {},
   "outputs": [
    {
     "data": {
      "text/html": [
       "<div>\n",
       "<style scoped>\n",
       "    .dataframe tbody tr th:only-of-type {\n",
       "        vertical-align: middle;\n",
       "    }\n",
       "\n",
       "    .dataframe tbody tr th {\n",
       "        vertical-align: top;\n",
       "    }\n",
       "\n",
       "    .dataframe thead th {\n",
       "        text-align: right;\n",
       "    }\n",
       "</style>\n",
       "<table border=\"1\" class=\"dataframe\">\n",
       "  <thead>\n",
       "    <tr style=\"text-align: right;\">\n",
       "      <th></th>\n",
       "      <th>Y</th>\n",
       "      <th>MOE</th>\n",
       "      <th>EAR</th>\n",
       "      <th>MAR</th>\n",
       "      <th>Circularity</th>\n",
       "      <th>EAR_N</th>\n",
       "      <th>MAR_N</th>\n",
       "      <th>Circularity_N</th>\n",
       "      <th>MOE_N</th>\n",
       "    </tr>\n",
       "  </thead>\n",
       "  <tbody>\n",
       "    <tr>\n",
       "      <th>0</th>\n",
       "      <td>0.0</td>\n",
       "      <td>2.534145</td>\n",
       "      <td>0.312688</td>\n",
       "      <td>0.792397</td>\n",
       "      <td>0.432896</td>\n",
       "      <td>-0.999551</td>\n",
       "      <td>0.802437</td>\n",
       "      <td>-0.948848</td>\n",
       "      <td>0.877172</td>\n",
       "    </tr>\n",
       "    <tr>\n",
       "      <th>1</th>\n",
       "      <td>0.0</td>\n",
       "      <td>2.379947</td>\n",
       "      <td>0.321940</td>\n",
       "      <td>0.766199</td>\n",
       "      <td>0.486923</td>\n",
       "      <td>-0.000897</td>\n",
       "      <td>0.317858</td>\n",
       "      <td>1.044306</td>\n",
       "      <td>0.211742</td>\n",
       "    </tr>\n",
       "    <tr>\n",
       "      <th>2</th>\n",
       "      <td>0.0</td>\n",
       "      <td>2.078550</td>\n",
       "      <td>0.331216</td>\n",
       "      <td>0.688449</td>\n",
       "      <td>0.456029</td>\n",
       "      <td>1.000448</td>\n",
       "      <td>-1.120295</td>\n",
       "      <td>-0.095458</td>\n",
       "      <td>-1.088914</td>\n",
       "    </tr>\n",
       "    <tr>\n",
       "      <th>3</th>\n",
       "      <td>0.0</td>\n",
       "      <td>2.509767</td>\n",
       "      <td>0.309246</td>\n",
       "      <td>0.776136</td>\n",
       "      <td>0.452655</td>\n",
       "      <td>-1.371052</td>\n",
       "      <td>0.501666</td>\n",
       "      <td>-0.219920</td>\n",
       "      <td>0.771970</td>\n",
       "    </tr>\n",
       "    <tr>\n",
       "      <th>4</th>\n",
       "      <td>0.0</td>\n",
       "      <td>3.586821</td>\n",
       "      <td>0.204691</td>\n",
       "      <td>0.734189</td>\n",
       "      <td>0.361123</td>\n",
       "      <td>-12.657205</td>\n",
       "      <td>-0.274242</td>\n",
       "      <td>-3.596686</td>\n",
       "      <td>5.419921</td>\n",
       "    </tr>\n",
       "    <tr>\n",
       "      <th>...</th>\n",
       "      <td>...</td>\n",
       "      <td>...</td>\n",
       "      <td>...</td>\n",
       "      <td>...</td>\n",
       "      <td>...</td>\n",
       "      <td>...</td>\n",
       "      <td>...</td>\n",
       "      <td>...</td>\n",
       "      <td>...</td>\n",
       "    </tr>\n",
       "    <tr>\n",
       "      <th>17035</th>\n",
       "      <td>1.0</td>\n",
       "      <td>4.791645</td>\n",
       "      <td>0.213104</td>\n",
       "      <td>1.021117</td>\n",
       "      <td>0.367879</td>\n",
       "      <td>-6.084482</td>\n",
       "      <td>-0.080850</td>\n",
       "      <td>-3.634001</td>\n",
       "      <td>7.983071</td>\n",
       "    </tr>\n",
       "    <tr>\n",
       "      <th>17036</th>\n",
       "      <td>1.0</td>\n",
       "      <td>4.072009</td>\n",
       "      <td>0.244625</td>\n",
       "      <td>0.996117</td>\n",
       "      <td>0.445070</td>\n",
       "      <td>-4.616718</td>\n",
       "      <td>-1.070763</td>\n",
       "      <td>-1.338495</td>\n",
       "      <td>4.802602</td>\n",
       "    </tr>\n",
       "    <tr>\n",
       "      <th>17037</th>\n",
       "      <td>1.0</td>\n",
       "      <td>3.644583</td>\n",
       "      <td>0.286575</td>\n",
       "      <td>1.044448</td>\n",
       "      <td>0.425488</td>\n",
       "      <td>-2.663385</td>\n",
       "      <td>0.842954</td>\n",
       "      <td>-1.920805</td>\n",
       "      <td>2.913568</td>\n",
       "    </tr>\n",
       "    <tr>\n",
       "      <th>17038</th>\n",
       "      <td>1.0</td>\n",
       "      <td>3.840868</td>\n",
       "      <td>0.265593</td>\n",
       "      <td>1.020106</td>\n",
       "      <td>0.414632</td>\n",
       "      <td>-3.640416</td>\n",
       "      <td>-0.120886</td>\n",
       "      <td>-2.243641</td>\n",
       "      <td>3.781062</td>\n",
       "    </tr>\n",
       "    <tr>\n",
       "      <th>17039</th>\n",
       "      <td>1.0</td>\n",
       "      <td>3.771236</td>\n",
       "      <td>0.270172</td>\n",
       "      <td>1.018881</td>\n",
       "      <td>0.426082</td>\n",
       "      <td>-3.427201</td>\n",
       "      <td>-0.169399</td>\n",
       "      <td>-1.903147</td>\n",
       "      <td>3.473319</td>\n",
       "    </tr>\n",
       "  </tbody>\n",
       "</table>\n",
       "<p>11760 rows × 9 columns</p>\n",
       "</div>"
      ],
      "text/plain": [
       "         Y       MOE       EAR       MAR  Circularity      EAR_N     MAR_N  \\\n",
       "0      0.0  2.534145  0.312688  0.792397     0.432896  -0.999551  0.802437   \n",
       "1      0.0  2.379947  0.321940  0.766199     0.486923  -0.000897  0.317858   \n",
       "2      0.0  2.078550  0.331216  0.688449     0.456029   1.000448 -1.120295   \n",
       "3      0.0  2.509767  0.309246  0.776136     0.452655  -1.371052  0.501666   \n",
       "4      0.0  3.586821  0.204691  0.734189     0.361123 -12.657205 -0.274242   \n",
       "...    ...       ...       ...       ...          ...        ...       ...   \n",
       "17035  1.0  4.791645  0.213104  1.021117     0.367879  -6.084482 -0.080850   \n",
       "17036  1.0  4.072009  0.244625  0.996117     0.445070  -4.616718 -1.070763   \n",
       "17037  1.0  3.644583  0.286575  1.044448     0.425488  -2.663385  0.842954   \n",
       "17038  1.0  3.840868  0.265593  1.020106     0.414632  -3.640416 -0.120886   \n",
       "17039  1.0  3.771236  0.270172  1.018881     0.426082  -3.427201 -0.169399   \n",
       "\n",
       "       Circularity_N     MOE_N  \n",
       "0          -0.948848  0.877172  \n",
       "1           1.044306  0.211742  \n",
       "2          -0.095458 -1.088914  \n",
       "3          -0.219920  0.771970  \n",
       "4          -3.596686  5.419921  \n",
       "...              ...       ...  \n",
       "17035      -3.634001  7.983071  \n",
       "17036      -1.338495  4.802602  \n",
       "17037      -1.920805  2.913568  \n",
       "17038      -2.243641  3.781062  \n",
       "17039      -1.903147  3.473319  \n",
       "\n",
       "[11760 rows x 9 columns]"
      ]
     },
     "execution_count": 10,
     "metadata": {},
     "output_type": "execute_result"
    }
   ],
   "source": [
    "# let's print the dataset\n",
    "df"
   ]
  },
  {
   "cell_type": "code",
   "execution_count": 11,
   "id": "ccd793e8",
   "metadata": {},
   "outputs": [],
   "source": [
    "# X will have all the columns apart from the Y\n",
    "X = df.drop('Y',axis=1).values\n",
    "y = df['Y'].values"
   ]
  },
  {
   "cell_type": "code",
   "execution_count": 12,
   "id": "d6aac323",
   "metadata": {},
   "outputs": [],
   "source": [
    "# let's split the dataset into train and test\n",
    "X_train, X_test, y_train, y_test = train_test_split(X, y, test_size=0.20, random_state=101)"
   ]
  },
  {
   "cell_type": "code",
   "execution_count": 13,
   "id": "eeb1dfe5",
   "metadata": {},
   "outputs": [],
   "source": [
    "# import KNeighbours\n",
    "from sklearn.neighbors import KNeighborsClassifier"
   ]
  },
  {
   "cell_type": "code",
   "execution_count": 14,
   "id": "a92ed6b9",
   "metadata": {},
   "outputs": [],
   "source": [
    "# let's start with K=1\n",
    "knn = KNeighborsClassifier(n_neighbors=1)"
   ]
  },
  {
   "cell_type": "code",
   "execution_count": 15,
   "id": "9049b6ed",
   "metadata": {},
   "outputs": [
    {
     "data": {
      "text/plain": [
       "KNeighborsClassifier(n_neighbors=1)"
      ]
     },
     "execution_count": 15,
     "metadata": {},
     "output_type": "execute_result"
    }
   ],
   "source": [
    "# Now we will fit the model.\n",
    "knn.fit(X_train,y_train)"
   ]
  },
  {
   "cell_type": "code",
   "execution_count": 16,
   "id": "7ff276d4",
   "metadata": {},
   "outputs": [],
   "source": [
    "# evaluation and prediction\n",
    "pred = knn.predict(X_test)"
   ]
  },
  {
   "cell_type": "code",
   "execution_count": 17,
   "id": "710d6d28",
   "metadata": {},
   "outputs": [],
   "source": [
    "# let's evaluate our KNN model\n",
    "from sklearn.metrics import classification_report,confusion_matrix"
   ]
  },
  {
   "cell_type": "code",
   "execution_count": 18,
   "id": "0d9a7e0a",
   "metadata": {},
   "outputs": [
    {
     "name": "stdout",
     "output_type": "stream",
     "text": [
      "[[976 249]\n",
      " [194 933]]\n"
     ]
    }
   ],
   "source": [
    "print(confusion_matrix(y_test,pred))"
   ]
  },
  {
   "cell_type": "code",
   "execution_count": 19,
   "id": "6766afd5",
   "metadata": {
    "scrolled": true
   },
   "outputs": [
    {
     "name": "stdout",
     "output_type": "stream",
     "text": [
      "              precision    recall  f1-score   support\n",
      "\n",
      "         0.0       0.83      0.80      0.82      1225\n",
      "         1.0       0.79      0.83      0.81      1127\n",
      "\n",
      "    accuracy                           0.81      2352\n",
      "   macro avg       0.81      0.81      0.81      2352\n",
      "weighted avg       0.81      0.81      0.81      2352\n",
      "\n"
     ]
    }
   ],
   "source": [
    "print(classification_report(y_test,pred))"
   ]
  },
  {
   "cell_type": "code",
   "execution_count": 20,
   "id": "53ce2d0a",
   "metadata": {},
   "outputs": [],
   "source": [
    "# now let's choose a value for K\n",
    "error_rate = []\n",
    "\n",
    "# Will take some time\n",
    "for i in range(1,40):\n",
    "    \n",
    "    knn = KNeighborsClassifier(n_neighbors=i)\n",
    "    knn.fit(X_train,y_train)\n",
    "    pred_i = knn.predict(X_test)\n",
    "    error_rate.append(np.mean(pred_i != y_test))"
   ]
  },
  {
   "cell_type": "code",
   "execution_count": 21,
   "id": "1708f708",
   "metadata": {},
   "outputs": [
    {
     "data": {
      "text/plain": [
       "Text(0, 0.5, 'Error Rate')"
      ]
     },
     "execution_count": 21,
     "metadata": {},
     "output_type": "execute_result"
    },
    {
     "data": {
      "image/png": "[encoded data removed]",
      "text/plain": [
       "<Figure size 720x432 with 1 Axes>"
      ]
     },
     "metadata": {
      "needs_background": "light"
     },
     "output_type": "display_data"
    }
   ],
   "source": [
    "# plot the Error rate vs K Value graph\n",
    "plt.figure(figsize=(10,6))\n",
    "plt.plot(range(1,40),error_rate,color='blue', linestyle='dashed', marker='o',\n",
    "         markerfacecolor='red', markersize=10)\n",
    "plt.title('Error Rate vs. K Value')\n",
    "plt.xlabel('K')\n",
    "plt.ylabel('Error Rate')"
   ]
  },
  {
   "cell_type": "markdown",
   "id": "d6299019",
   "metadata": {},
   "source": [
    "As we can see from the above graph that the difference between the error rate value is less hence at K=5 we get minimum error rate and high accuracy. It is same for K=5,6,7,8 therefore we choose the minimum k value."
   ]
  },
  {
   "cell_type": "code",
   "execution_count": 24,
   "id": "69138508",
   "metadata": {},
   "outputs": [
    {
     "name": "stdout",
     "output_type": "stream",
     "text": [
      "WITH K=5\n",
      "\n",
      "\n",
      "[[997 228]\n",
      " [177 950]]\n",
      "\n",
      "\n",
      "              precision    recall  f1-score   support\n",
      "\n",
      "         0.0       0.85      0.81      0.83      1225\n",
      "         1.0       0.81      0.84      0.82      1127\n",
      "\n",
      "    accuracy                           0.83      2352\n",
      "   macro avg       0.83      0.83      0.83      2352\n",
      "weighted avg       0.83      0.83      0.83      2352\n",
      "\n"
     ]
    }
   ],
   "source": [
    "# NOW WITH K=5\n",
    "knn = KNeighborsClassifier(n_neighbors=5)\n",
    "\n",
    "knn.fit(X_train,y_train)\n",
    "pred = knn.predict(X_test)\n",
    "\n",
    "print('WITH K=5')\n",
    "print('\\n')\n",
    "print(confusion_matrix(y_test,pred))\n",
    "print('\\n')\n",
    "print(classification_report(y_test,pred))"
   ]
  },
  {
   "cell_type": "markdown",
   "id": "9fac40d1",
   "metadata": {},
   "source": [
    "So the final accuracy that we are getting is 83% from our KNN model at K =5. "
   ]
  },
  {
   "cell_type": "code",
   "execution_count": 29,
   "id": "6a439efb",
   "metadata": {},
   "outputs": [
    {
     "name": "stderr",
     "output_type": "stream",
     "text": [
      "<ipython-input-29-4490a8f1345b>:5: MatplotlibDeprecationWarning: Adding an axes using the same arguments as a previous axes currently reuses the earlier instance.  In a future version, a new instance will always be created and returned.  Meanwhile, this warning can be suppressed, and the future behavior ensured, by passing a unique label to each axes instance.\n",
      "  plt.axes().set_aspect(\"equal\")\n"
     ]
    },
    {
     "data": {
      "image/png": "[encoded data removed]",
      "text/plain": [
       "<Figure size 432x288 with 1 Axes>"
      ]
     },
     "metadata": {},
     "output_type": "display_data"
    }
   ],
   "source": [
    "sizes = [25, 20, 45, 10, 25, 20, 45, 10]\n",
    "labels = [\"MOE\", \"EAR\", \"MAR\", \"Circularity\", \"EAR_N\", \"MAR_N\", \"MOE_N\", \"Circularity\"]\n",
    "plt.pie(sizes, labels = labels, autopct = \"%.2f\")\n",
    "plt.title(\"Feature Importance\")\n",
    "plt.axes().set_aspect(\"equal\")\n",
    "plt.show()"
   ]
  },
  {
   "cell_type": "markdown",
   "id": "7889549f",
   "metadata": {},
   "source": [
    "## CNN"
   ]
  },
  {
   "cell_type": "code",
   "execution_count": null,
   "id": "738025bc",
   "metadata": {},
   "outputs": [],
   "source": [
    "# Reference: https://github.com/hackenjoe/Advanced_Drowsiness_Detection/blob/main/README.md"
   ]
  },
  {
   "cell_type": "code",
   "execution_count": 19,
   "id": "4a418fe1",
   "metadata": {},
   "outputs": [],
   "source": [
    "import pandas as pd\n",
    "import glob\n",
    "import numpy as np\n",
    "import os.path\n",
    "import os\n",
    "import shutil\n",
    "import matplotlib.pyplot as plt"
   ]
  },
  {
   "cell_type": "code",
   "execution_count": 2,
   "id": "d00effe6",
   "metadata": {},
   "outputs": [],
   "source": [
    "import torch\n",
    "import torch.nn as nn\n",
    "import torch.nn.functional as F\n",
    "import torchvision\n",
    "import torchvision.transforms as transforms\n",
    "from torch.utils.data import Dataset, DataLoader"
   ]
  },
  {
   "cell_type": "markdown",
   "id": "c3d6450d",
   "metadata": {},
   "source": [
    "<h3><b>Function to Split Images into Train and Test Set </b></h3>"
   ]
  },
  {
   "cell_type": "code",
   "execution_count": 8,
   "id": "3f2c4ed2",
   "metadata": {},
   "outputs": [],
   "source": [
    "def copy_imgs(participants, train_set = True):\n",
    "    x = [int(x) for x in participants]    \n",
    "    alert_list, drowsy_list = [], []\n",
    "\n",
    "    for i in x:\n",
    "        \n",
    "        alert_states = len(glob.glob(\"img/\"+str(i)+\"/p\"+str(i)+\"_s0*\"))\n",
    "        drowsy_states = len(glob.glob(\"img/\"+str(i)+\"/p\"+str(i)+\"_s10*\"))\n",
    "\n",
    "        MIN_T = 0 if train_set else int((alert_states*0.8))+1\n",
    "        MAX_T = int((alert_states*0.8)) if train_set else alert_states\n",
    "        for j in np.arange(MIN_T, MAX_T):\n",
    "            alert_list.append(str(i)+\"/p\"+str(i)+\"_s0_\"+str(j)+\"sec.jpg\")\n",
    "\n",
    "        MIN_T1 = 0 if train_set else int((drowsy_states*0.8))+1\n",
    "        MAX_T1 = int((drowsy_states*0.8)) if train_set else drowsy_states\n",
    "        for j in np.arange(MIN_T1, MAX_T1):\n",
    "            drowsy_list.append(str(i)+\"/p\"+str(i)+\"_s10_\"+str(j)+\"sec.jpg\")\n",
    "    \n",
    "    for item in alert_list:\n",
    "        if not (os.path.isfile(r'img/'+str(item))):\n",
    "            print(\"Not found\", item)\n",
    "            continue\n",
    "        if train_set:\n",
    "            shutil.copy(r'img/'+str(item), r'/Users/manjinder/Desktop/dataset/training_data/0/')\n",
    "        else:\n",
    "            shutil.copy(r'img/'+str(item), r'/Users/manjinder/Desktop/dataset/testing_data/0/')\n",
    "    \n",
    "    for item in drowsy_list:\n",
    "        if not (os.path.isfile(r'img/'+str(item))):\n",
    "            print(\"Not found\", item)\n",
    "            continue\n",
    "        if train_set:\n",
    "            shutil.copy(r'img/'+str(item), r'/Users/manjinder/Desktop/dataset/training_data/1/')\n",
    "        else:\n",
    "            shutil.copy(r'img/'+str(item), r'/Users/manjinder/Desktop/dataset/testing_data/1/')"
   ]
  },
  {
   "cell_type": "code",
   "execution_count": 9,
   "id": "24c6435b",
   "metadata": {},
   "outputs": [],
   "source": [
    "# We are using set for indexing each participant whose record we have fetched from data preprocessing\n",
    "participants = set(pd.read_csv('Data/normalized_data.csv',sep=',').Participant)"
   ]
  },
  {
   "cell_type": "code",
   "execution_count": 10,
   "id": "fd628801",
   "metadata": {},
   "outputs": [
    {
     "name": "stdout",
     "output_type": "stream",
     "text": [
      "Not found 43/p43_s0_0sec.jpg\n",
      "Not found 3/p3_s10_0sec.jpg\n",
      "Not found 5/p5_s10_0sec.jpg\n",
      "Not found 10/p10_s10_0sec.jpg\n",
      "Not found 16/p16_s10_0sec.jpg\n",
      "Not found 18/p18_s10_0sec.jpg\n",
      "Not found 19/p19_s10_0sec.jpg\n",
      "Not found 22/p22_s10_0sec.jpg\n",
      "Not found 28/p28_s10_0sec.jpg\n",
      "Not found 44/p44_s10_0sec.jpg\n",
      "Not found 48/p48_s10_0sec.jpg\n",
      "Not found 53/p53_s10_0sec.jpg\n",
      "Not found 57/p57_s10_0sec.jpg\n",
      "Not found 60/p60_s10_0sec.jpg\n",
      "Not found 50/p50_s0_241sec.jpg\n",
      "Not found 50/p50_s0_242sec.jpg\n",
      "Not found 50/p50_s0_243sec.jpg\n",
      "Not found 50/p50_s0_244sec.jpg\n",
      "Not found 50/p50_s0_245sec.jpg\n",
      "Not found 50/p50_s0_246sec.jpg\n",
      "Not found 50/p50_s0_247sec.jpg\n",
      "Not found 50/p50_s0_248sec.jpg\n"
     ]
    }
   ],
   "source": [
    "copy_imgs(participants, train_set=True)\n",
    "copy_imgs(participants, train_set=False)"
   ]
  },
  {
   "cell_type": "code",
   "execution_count": 11,
   "id": "f5b61050",
   "metadata": {},
   "outputs": [],
   "source": [
    "mean = torch.tensor([0.485, 0.456, 0.406], dtype=torch.float32)\n",
    "std = torch.tensor([0.229, 0.224, 0.225], dtype=torch.float32)\n",
    "transform_img = {'train': transforms.Compose([transforms.Resize((224,224)),\n",
    "                                              transforms.ToTensor(),\n",
    "                                              transforms.Normalize(mean.tolist(), std.tolist())]),\n",
    "                 'unnormalize' : transforms.Normalize((-mean/std).tolist(),(1.0/std).tolist()),\n",
    "                 'resize' : transforms.Compose([transforms.Resize((224,224)),\n",
    "                                                transforms.ToTensor()])}"
   ]
  },
  {
   "cell_type": "code",
   "execution_count": 13,
   "id": "8f4c5d9f",
   "metadata": {},
   "outputs": [],
   "source": [
    "train_data = torchvision.datasets.ImageFolder(r\"/Users/manjinder/Desktop/dataset/training_data\",transform=transform_img[\"train\"])"
   ]
  },
  {
   "cell_type": "code",
   "execution_count": 22,
   "id": "16ae0eb8",
   "metadata": {},
   "outputs": [
    {
     "name": "stdout",
     "output_type": "stream",
     "text": [
      "Dataset ImageFolder\n",
      "    Number of datapoints: 9401\n",
      "    Root location: /Users/manjinder/Desktop/dataset/training_data\n",
      "    StandardTransform\n",
      "Transform: Compose(\n",
      "               Resize(size=(224, 224), interpolation=bilinear, max_size=None, antialias=None)\n",
      "               ToTensor()\n",
      "               Normalize(mean=[0.48500001430511475, 0.4560000002384186, 0.4059999883174896], std=[0.2290000021457672, 0.2240000069141388, 0.22499999403953552])\n",
      "           ) Dataset ImageFolder\n",
      "    Number of datapoints: 2331\n",
      "    Root location: /Users/manjinder/Desktop/dataset/testing_data\n",
      "    StandardTransform\n",
      "Transform: Compose(\n",
      "               Resize(size=(224, 224), interpolation=bilinear, max_size=None, antialias=None)\n",
      "               ToTensor()\n",
      "               Normalize(mean=[0.48500001430511475, 0.4560000002384186, 0.4059999883174896], std=[0.2290000021457672, 0.2240000069141388, 0.22499999403953552])\n",
      "           )\n"
     ]
    },
    {
     "data": {
      "text/plain": [
       "torch.Size([32])"
      ]
     },
     "execution_count": 22,
     "metadata": {},
     "output_type": "execute_result"
    }
   ],
   "source": [
    "validation_data = torchvision.datasets.ImageFolder(r\"/Users/manjinder/Desktop/dataset/testing_data\", transform=transform_img[\"train\"])\n",
    "train_loader = DataLoader(train_data, batch_size=32, shuffle=True, num_workers=0) \n",
    "validation_loader = DataLoader(validation_data, batch_size=32, shuffle=False, num_workers=0)\n",
    "print(train_data, validation_data)\n",
    "\n",
    "traningimages, labels = next(iter(train_loader))\n",
    "labels.shape"
   ]
  },
  {
   "cell_type": "markdown",
   "id": "2e4513b9",
   "metadata": {},
   "source": [
    "<h3><b>Architecture of CNN</b></h3>"
   ]
  },
  {
   "cell_type": "code",
   "execution_count": 24,
   "id": "bfedd151",
   "metadata": {},
   "outputs": [],
   "source": [
    "class CNN(nn.Module): \n",
    "    def __init__(self):\n",
    "        super(CNN, self).__init__()\n",
    "        self.conv1 = nn.Conv2d(in_channels=3, out_channels=10, kernel_size=3)\n",
    "        self.conv2 = nn.Conv2d(in_channels=10, out_channels=20, kernel_size=3)\n",
    "        self.conv2_bn = nn.BatchNorm2d(20)\n",
    "        self.conv2_drop = nn.Dropout2d(p=0.2)\n",
    "        self.fc1 = nn.Linear(58320, 1024) \n",
    "        self.fc1_bn = nn.BatchNorm1d(1024)\n",
    "        self.fc2 = nn.Linear(1024, 2)\n",
    "\n",
    "    def forward(self, x):\n",
    "        x = F.relu(F.max_pool2d(self.conv1(x), kernel_size=2))     \n",
    "        x = F.relu(F.max_pool2d(self.conv2_drop(self.conv2_bn(self.conv2(x))), kernel_size=2))\n",
    "        x = torch.flatten(x, 1)\n",
    "        x = F.relu(self.fc1_bn(self.fc1(x)))\n",
    "        x = self.fc2(x)\n",
    "        return x"
   ]
  },
  {
   "cell_type": "code",
   "execution_count": 48,
   "id": "24eea2b0",
   "metadata": {},
   "outputs": [
    {
     "name": "stdout",
     "output_type": "stream",
     "text": [
      "Architecture of Convolutional Neural Network\n",
      "CNN(\n",
      "  (conv1): Conv2d(3, 10, kernel_size=(3, 3), stride=(1, 1))\n",
      "  (conv2): Conv2d(10, 20, kernel_size=(3, 3), stride=(1, 1))\n",
      "  (conv2_bn): BatchNorm2d(20, eps=1e-05, momentum=0.1, affine=True, track_running_stats=True)\n",
      "  (conv2_drop): Dropout2d(p=0.2, inplace=False)\n",
      "  (fc1): Linear(in_features=58320, out_features=1024, bias=True)\n",
      "  (fc1_bn): BatchNorm1d(1024, eps=1e-05, momentum=0.1, affine=True, track_running_stats=True)\n",
      "  (fc2): Linear(in_features=1024, out_features=2, bias=True)\n",
      ")\n"
     ]
    }
   ],
   "source": [
    "model = CNN()\n",
    "print(\"Architecture of Convolutional Neural Network\")\n",
    "print(model)"
   ]
  },
  {
   "cell_type": "code",
   "execution_count": 34,
   "id": "08539e47",
   "metadata": {},
   "outputs": [],
   "source": [
    "num_epochs = 9\n",
    "criterion = nn.CrossEntropyLoss() #log loss function\n",
    "optimizer = torch.optim.SGD(model.parameters(), lr=10e-4, momentum=0.85)"
   ]
  },
  {
   "cell_type": "code",
   "execution_count": 35,
   "id": "c1f84c83",
   "metadata": {},
   "outputs": [],
   "source": [
    "from torch.utils.tensorboard import SummaryWriter\n",
    "tb = SummaryWriter()"
   ]
  },
  {
   "cell_type": "code",
   "execution_count": 43,
   "id": "84e3c3e6",
   "metadata": {},
   "outputs": [
    {
     "name": "stdout",
     "output_type": "stream",
     "text": [
      "Epoch: 0 \tTraining Loss: 0.005073 \tAccuracy: 99.925540 \tValidation Loss: 0.000482 \tValidation Accuracy: 100.000000\n",
      "Epoch: 1 \tTraining Loss: 0.004909 \tAccuracy: 99.882991 \tValidation Loss: 0.000524 \tValidation Accuracy: 100.000000\n",
      "Epoch: 2 \tTraining Loss: 0.005317 \tAccuracy: 99.893628 \tValidation Loss: 0.000480 \tValidation Accuracy: 100.000000\n",
      "Epoch: 3 \tTraining Loss: 0.004340 \tAccuracy: 99.914903 \tValidation Loss: 0.000568 \tValidation Accuracy: 100.000000\n",
      "Epoch: 4 \tTraining Loss: 0.005476 \tAccuracy: 99.882991 \tValidation Loss: 0.000794 \tValidation Accuracy: 100.000000\n",
      "Epoch: 5 \tTraining Loss: 0.005046 \tAccuracy: 99.893628 \tValidation Loss: 0.000474 \tValidation Accuracy: 100.000000\n",
      "Epoch: 6 \tTraining Loss: 0.004880 \tAccuracy: 99.882991 \tValidation Loss: 0.000828 \tValidation Accuracy: 100.000000\n",
      "Epoch: 7 \tTraining Loss: 0.004193 \tAccuracy: 99.914903 \tValidation Loss: 0.000677 \tValidation Accuracy: 100.000000\n",
      "Epoch: 8 \tTraining Loss: 0.004954 \tAccuracy: 99.872354 \tValidation Loss: 0.000666 \tValidation Accuracy: 100.000000\n"
     ]
    }
   ],
   "source": [
    "train_losses, valid_losses, train_accuracies, valid_accuracies = [], [], [], []\n",
    "tb = SummaryWriter()\n",
    "\n",
    "for epoch in range(0, num_epochs):\n",
    "    train_loss, valid_loss, correct, correct_val = 0.0, 0.0, 0.0, 0.0\n",
    "\n",
    "    # training-the-model\n",
    "    model.train()\n",
    "    for data, target in train_loader:\n",
    "        data = data\n",
    "        target = target\n",
    "        optimizer.zero_grad()        \n",
    "        output = model(data)\n",
    "        loss = criterion(output, target)\n",
    "        loss.backward()\n",
    "        optimizer.step()\n",
    "        _, predicted = torch.max(output.data, 1)\n",
    "        correct += (predicted == target).sum().item()\n",
    "        train_loss += loss.item() * data.size(0)\n",
    "                \n",
    "    # collecting statistics for tb\n",
    "    tb.add_scalar(\"Train Loss\", train_loss, epoch)\n",
    "    tb.add_scalar(\"Train Correct\", correct, epoch)\n",
    "    tb.add_scalar(\"Train Accuracy\", correct / len(train_loader.sampler), epoch)\n",
    "    tb.add_histogram(\"conv1.bias\", model.conv1.bias, epoch)\n",
    "    tb.add_histogram(\"conv1.weight\", model.conv1.weight, epoch)\n",
    "    tb.add_histogram(\"conv2.bias\", model.conv2.bias, epoch)\n",
    "    tb.add_histogram(\"conv2.weight\", model.conv2.weight, epoch)\n",
    "\n",
    "    \n",
    "    # validate-the-model\n",
    "    model.eval()\n",
    "    for data, target in validation_loader:\n",
    "        data = data\n",
    "        target = target\n",
    "        output = model(data)\n",
    "        loss = criterion(output, target)\n",
    "        valid_loss += loss.item() * data.size(0)\n",
    "        _, predicted = torch.max(output.data, 1)\n",
    "        correct_val += (predicted == target).sum().item()\n",
    "\n",
    "        # collecting statistics for tb\n",
    "        tb.add_scalar(\"Validation Loss\", valid_loss, epoch)\n",
    "        tb.add_scalar(\"Validation Correct\", correct, epoch)\n",
    "        tb.add_scalar(\"Validation Accuracy\", correct_val / len(validation_loader.sampler), epoch)\n",
    "    \n",
    "    train_loss = train_loss/len(train_loader.sampler)\n",
    "    valid_loss = valid_loss/len(validation_loader.sampler)\n",
    "    accuracy = 100 * correct / len(train_loader.sampler)\n",
    "    accuracy_val = 100 * correct_val / len(validation_loader.sampler)\n",
    "    #Appending accuracy and loss to their respective List declared in beginning\n",
    "    train_losses.append(train_loss)\n",
    "    valid_losses.append(valid_loss)\n",
    "    train_accuracies.append(accuracy)\n",
    "    valid_accuracies.append(accuracy_val)\n",
    "        \n",
    "    print('Epoch: {} \\tTraining Loss: {:.6f} \\tAccuracy: {:.6f} \\tValidation Loss: {:.6f} \n",
    "          '\\tValidation Accuracy: {:.6f}'.format(epoch, train_loss, accuracy, valid_loss, accuracy_val))\n",
    "\n"
   ]
  },
  {
   "cell_type": "code",
   "execution_count": 45,
   "id": "d8e7a3b9",
   "metadata": {},
   "outputs": [
    {
     "data": {
      "text/plain": [
       "<matplotlib.legend.Legend at 0x7f9aa860cf70>"
      ]
     },
     "execution_count": 45,
     "metadata": {},
     "output_type": "execute_result"
    },
    {
     "data": {
      "image/png": "[encoded data removed]",
      "text/plain": [
       "<Figure size 432x288 with 1 Axes>"
      ]
     },
     "metadata": {
      "needs_background": "light"
     },
     "output_type": "display_data"
    }
   ],
   "source": [
    "plt.plot(train_losses, label='Training loss')\n",
    "plt.plot(valid_losses, label='Validation loss')\n",
    "plt.xlabel(\"Epochs\")\n",
    "plt.ylabel(\"Loss\")\n",
    "plt.legend(frameon=False)"
   ]
  },
  {
   "cell_type": "code",
   "execution_count": 47,
   "id": "104d2692",
   "metadata": {},
   "outputs": [
    {
     "name": "stdout",
     "output_type": "stream",
     "text": [
      "Validation images \n",
      "torch.Size([3, 224, 224])\n"
     ]
    },
    {
     "data": {
      "image/png": "[encoded data removed]",
      "text/plain": [
       "<Figure size 864x864 with 8 Axes>"
      ]
     },
     "metadata": {
      "needs_background": "light"
     },
     "output_type": "display_data"
    },
    {
     "data": {
      "image/png": "[encoded data removed]",
      "text/plain": [
       "<Figure size 864x864 with 8 Axes>"
      ]
     },
     "metadata": {
      "needs_background": "light"
     },
     "output_type": "display_data"
    }
   ],
   "source": [
    "validation_loader = DataLoader(validation_data, batch_size=32, shuffle=True, num_workers=0)\n",
    "validationimages, validationlabels = next(iter(validation_loader))\n",
    "n = 8\n",
    "\n",
    "fig, axes = plt.subplots(figsize=(12, 12), ncols=n)\n",
    "print(f'Validation images \\n{validationimages[0].size()}')\n",
    "\n",
    "# actual labels\n",
    "for i in range(n):\n",
    "    axe1 = axes[i] \n",
    "    imshow(validationimages[i], validationlabels[i], ax=axe1, normalize=True)\n",
    "\n",
    "# predicted labels\n",
    "fig, axes = plt.subplots(figsize=(12, 12), ncols=n)\n",
    "for i in range(n):\n",
    "    axe1 = axes[i]\n",
    "    image = validationimages[i].unsqueeze(0)\n",
    "    model.eval()\n",
    "    with torch.no_grad(): # deactivate autograd engine\n",
    "        image = image\n",
    "        output = torch.argmax(model(image), 1)\n",
    "        \n",
    "    # undo normalization for visualization\n",
    "    image = image * torch.tensor([0.229, 0.224, 0.225]).view(3, 1, 1) + torch.tensor([0.485, 0.456, 0.406]).view(3, 1, 1)\n",
    "    axe1.imshow(np.transpose(image.detach().cpu().numpy().squeeze(), (1, 2, 0)))\n",
    "    axe1.spines['top'].set_visible(True)\n",
    "    axe1.spines['right'].set_visible(True)\n",
    "    axe1.spines['left'].set_visible(True)\n",
    "    axe1.spines['bottom'].set_visible(True)\n",
    "    axe1.tick_params(axis='both', length=0)\n",
    "    axe1.set_xlabel(\"(Pred -) drowsy\" if output.item()==1 else \"(Pred-) alert\")\n",
    "    axe1.set_xticklabels('')\n",
    "    axe1.set_yticklabels('')"
   ]
  },
  {
   "cell_type": "code",
   "execution_count": null,
   "id": "f8c0ca64",
   "metadata": {},
   "outputs": [],
   "source": []
  }
 ],
 "metadata": {
  "colab": {
   "collapsed_sections": [],
   "name": "Feature_extraction.ipynb",
   "provenance": []
  },
  "kernelspec": {
   "display_name": "Python 3",
   "language": "python",
   "name": "python3"
  },
  "language_info": {
   "codemirror_mode": {
    "name": "ipython",
    "version": 3
   },
   "file_extension": ".py",
   "mimetype": "text/x-python",
   "name": "python",
   "nbconvert_exporter": "python",
   "pygments_lexer": "ipython3",
   "version": "3.8.8"
  }
 },
 "nbformat": 4,
 "nbformat_minor": 5
}
